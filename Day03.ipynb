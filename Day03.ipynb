{
 "cells": [
  {
   "cell_type": "code",
   "execution_count": 64,
   "id": "5d2c7b0f",
   "metadata": {},
   "outputs": [],
   "source": [
    "class SoccerPlayer:\n",
    "    def __init__(self, name, position, back_number):   #생성자\n",
    "        self.name = name\n",
    "        self.position = position\n",
    "        self.back_number = back_number\n",
    "        \n",
    "    def change_back_number(self, back_number): #메서드\n",
    "        print(\"선수 등번호 변경: From %d to %d\"% (self.back_number, back_number))\n",
    "        self.back_number = back_number\n",
    "        \n",
    "    def __str__(self):\n",
    "        return f\"Hello, My name is {self.name}. I play in {self.position} in center.\""
   ]
  },
  {
   "cell_type": "code",
   "execution_count": 65,
   "id": "15946adf",
   "metadata": {},
   "outputs": [],
   "source": [
    "chaboom = SoccerPlayer(\"Chaboom\", \"CF\", 11)"
   ]
  },
  {
   "cell_type": "code",
   "execution_count": 66,
   "id": "fdf4402a",
   "metadata": {},
   "outputs": [
    {
     "name": "stdout",
     "output_type": "stream",
     "text": [
      "현재 선수의 등번호: 11\n"
     ]
    }
   ],
   "source": [
    "print('현재 선수의 등번호:', chaboom.back_number)"
   ]
  },
  {
   "cell_type": "code",
   "execution_count": 67,
   "id": "3712f6e9",
   "metadata": {},
   "outputs": [
    {
     "name": "stdout",
     "output_type": "stream",
     "text": [
      "선수 등번호 변경: From 11 to 9\n"
     ]
    }
   ],
   "source": [
    "chaboom.change_back_number(9)"
   ]
  },
  {
   "cell_type": "code",
   "execution_count": 68,
   "id": "7141121e",
   "metadata": {},
   "outputs": [
    {
     "name": "stdout",
     "output_type": "stream",
     "text": [
      "현재 선수의 등번호 9\n"
     ]
    }
   ],
   "source": [
    "print('현재 선수의 등번호', chaboom.back_number)"
   ]
  },
  {
   "cell_type": "code",
   "execution_count": 69,
   "id": "dc222c8f",
   "metadata": {},
   "outputs": [
    {
     "name": "stdout",
     "output_type": "stream",
     "text": [
      "Hello, My name is Chaboom. I play in CF in center.\n"
     ]
    }
   ],
   "source": [
    "print(chaboom)"
   ]
  },
  {
   "cell_type": "code",
   "execution_count": 70,
   "id": "831a36e2",
   "metadata": {},
   "outputs": [],
   "source": [
    "class Car:\n",
    "    instance_count = 0  # 클래스변수\n",
    "    \n",
    "    def __init__(self, size, color):\n",
    "        self.size = size     #인스턴스 변수\n",
    "        self.color = color    \n",
    "        Car.instance_count += 1\n",
    "        print(f\"자동차 객체의 수:{Car.instance_count}\")\n",
    "        \n",
    "    def move(self):\n",
    "        print(f\"자동차({self.size} & {self.color})가 움직입니다.\")"
   ]
  },
  {
   "cell_type": "code",
   "execution_count": 71,
   "id": "59f7187d",
   "metadata": {},
   "outputs": [
    {
     "name": "stdout",
     "output_type": "stream",
     "text": [
      "자동차 객체의 수:1\n",
      "자동차 객체의 수:2\n"
     ]
    }
   ],
   "source": [
    "car1 = Car(\"small\", \"white\")\n",
    "car2 = Car(\"big\", \"black\")"
   ]
  },
  {
   "cell_type": "code",
   "execution_count": 72,
   "id": "1f632790",
   "metadata": {},
   "outputs": [
    {
     "name": "stdout",
     "output_type": "stream",
     "text": [
      "Car 클래스의 총 인스턴스 수: 2\n"
     ]
    }
   ],
   "source": [
    "print(f\"Car 클래스의 총 인스턴스 수: {Car.instance_count}\")"
   ]
  },
  {
   "cell_type": "code",
   "execution_count": 73,
   "id": "becf7899",
   "metadata": {},
   "outputs": [
    {
     "name": "stdout",
     "output_type": "stream",
     "text": [
      "자동차(small & white)가 움직입니다.\n",
      "자동차(big & black)가 움직입니다.\n"
     ]
    }
   ],
   "source": [
    "car1.move()\n",
    "car2.move()"
   ]
  },
  {
   "cell_type": "code",
   "execution_count": 89,
   "id": "5399f933",
   "metadata": {},
   "outputs": [],
   "source": [
    "class Car:\n",
    "    instance_count = 0  # 클래스변수\n",
    "    \n",
    "    def __init__(self, size, color):\n",
    "        self.size = size     #인스턴스 변수\n",
    "        self.color = color\n",
    "        self.speed = 0\n",
    "        Car.instance_count += 1\n",
    "        print(f\"자동차 객체의 수:{Car.instance_count}\")\n",
    "        \n",
    "    def move(self,speed):\n",
    "        self.speed = speed\n",
    "        print(f\"자동차({self.size} & {self.color})가\",end=' ')\n",
    "        print(f\"시속 {self.speed}킬로미터로 전진\")\n",
    "        \n",
    "    def auto_cruise(self):\n",
    "        print(\"자율 주행 모드\")\n",
    "        self.move(self.speed)\n",
    "        \n",
    "    @staticmethod \n",
    "    def check_type(model_code):   #static은 self를 넣지 않는다.\n",
    "        if model_code >= 20:\n",
    "            print(\"이 자동차는 전기차입니다.\")\n",
    "        elif 10 <= model_code < 20:\n",
    "            print(\"이 자동차는 가솔린차입니다.\")\n",
    "        else:\n",
    "            print(\"이 자동차는 디젤차입니다.\")\n"
   ]
  },
  {
   "cell_type": "code",
   "execution_count": 90,
   "id": "fc16b38a",
   "metadata": {},
   "outputs": [
    {
     "name": "stdout",
     "output_type": "stream",
     "text": [
      "자동차 객체의 수:1\n",
      "자동차(small & red)가 시속 80킬로미터로 전진\n",
      "자율 주행 모드\n",
      "자동차(small & red)가 시속 80킬로미터로 전진\n"
     ]
    }
   ],
   "source": [
    "car = Car(\"small\",\"red\") #객체만들고\n",
    "car.move(80)  #move 메서드 호출\n",
    "car.auto_cruise()"
   ]
  },
  {
   "cell_type": "code",
   "execution_count": 76,
   "id": "336aa18c",
   "metadata": {},
   "outputs": [
    {
     "name": "stdout",
     "output_type": "stream",
     "text": [
      "이 자동차는 전기차입니다.\n"
     ]
    }
   ],
   "source": [
    "Car.check_type(25)  #  static이므로 class로  Car로 불러야해"
   ]
  },
  {
   "cell_type": "code",
   "execution_count": 77,
   "id": "c5dc3301",
   "metadata": {},
   "outputs": [],
   "source": [
    "class Bicycle:\n",
    "    def __init__(self,wheel_size, color):\n",
    "        self.wheel_size = wheel_size\n",
    "        self.color = color\n",
    "    \n",
    "    def move(self, speed):\n",
    "        print(f\"자전거 시속 {speed} 킬로미터로 전진\")\n",
    "        \n",
    "    def turn(self, direction):\n",
    "        print(f\"자전거: {direction} 회전\")\n",
    "        \n",
    "    def stop(self):\n",
    "        print(f\"자전거({self.wheel_size}, {self.color}): 정지\")"
   ]
  },
  {
   "cell_type": "code",
   "execution_count": 78,
   "id": "329beb07",
   "metadata": {},
   "outputs": [],
   "source": [
    "class FoldingBicycle(Bicycle):   # 상위클래스를 괄호안에 집어넣어줌\n",
    "    \n",
    "    def __init__(self, wheel_size, color, state):\n",
    "        super().__init__(wheel_size, color) # 부모클래스의 생성자를 가져옴\n",
    "        self.state = state   # 부모클래스에 없는 건 직접 생성\n",
    "        \n",
    "    def fold(self):\n",
    "        self.state = \"folding\"\n",
    "        print(f\"자전거: 접기, state = {self.state}\")\n",
    "        \n",
    "    def unfold(self):\n",
    "        self.state = \"unfolding\"\n",
    "        print(f\"자전거: 펴기, state = {self.state}\")"
   ]
  },
  {
   "cell_type": "code",
   "execution_count": 79,
   "id": "8f4c7f95",
   "metadata": {},
   "outputs": [
    {
     "name": "stdout",
     "output_type": "stream",
     "text": [
      "자전거 시속 20 킬로미터로 전진\n",
      "자전거: right 회전\n",
      "자전거(27, white): 정지\n",
      "자전거: 접기, state = folding\n",
      "자전거: 펴기, state = unfolding\n"
     ]
    }
   ],
   "source": [
    "folding_bicycle = FoldingBicycle(27, 'white', 'unfolding')\n",
    "folding_bicycle.move(20)\n",
    "folding_bicycle.turn('right')\n",
    "folding_bicycle.stop()\n",
    "folding_bicycle.fold()\n",
    "folding_bicycle.unfold()"
   ]
  },
  {
   "cell_type": "code",
   "execution_count": 80,
   "id": "6dfede37",
   "metadata": {},
   "outputs": [],
   "source": [
    "class Person:\n",
    "    def __init__(self, name, age, gender):\n",
    "        self.name = name\n",
    "        self.age = age\n",
    "        self.gender = gender\n",
    "    \n",
    "    def about_me(self):\n",
    "        print(\"제 이름은\", self.name, end='')\n",
    "        print(f\"({self.gender} 이고요, 제 나이는\", str(self.age), \"살 입니다.\")"
   ]
  },
  {
   "cell_type": "code",
   "execution_count": 81,
   "id": "1babd4d3",
   "metadata": {},
   "outputs": [],
   "source": [
    "class Employee(Person):\n",
    "    def __init__(self, name, age, gender, salary, hire_date):\n",
    "        super().__init__(name, age, gender)\n",
    "        self.salary = salary\n",
    "        self.hire_date = hire_date\n",
    "        \n",
    "    def do_work(self):\n",
    "        print(\"열심히 일을 한다.\")\n",
    "        \n",
    "    def about_me(self):  #오버라이딩한 부분\n",
    "        super().about_me()\n",
    "        print(\"제 급여는\", self.salary, \"원 이고, 제 입사일은\", self.hire_date, \"입니다.\")"
   ]
  },
  {
   "cell_type": "code",
   "execution_count": 82,
   "id": "161a328a",
   "metadata": {},
   "outputs": [
    {
     "name": "stdout",
     "output_type": "stream",
     "text": [
      "열심히 일을 한다.\n",
      "제 이름은 Tom(남성 이고요, 제 나이는 25 살 입니다.\n",
      "제 급여는 350 원 이고, 제 입사일은 2021/08/20 입니다.\n"
     ]
    }
   ],
   "source": [
    "emp = Employee(\"Tom\", 25, \"남성\", 350, \"2021/08/20\")\n",
    "emp.do_work()\n",
    "emp.about_me()"
   ]
  },
  {
   "cell_type": "code",
   "execution_count": 83,
   "id": "4b890fde",
   "metadata": {},
   "outputs": [],
   "source": [
    "class Product:\n",
    "    pass #내용물이 아무것도 없는 껍데기 만들기"
   ]
  },
  {
   "cell_type": "code",
   "execution_count": 84,
   "id": "6a1360be",
   "metadata": {},
   "outputs": [],
   "source": [
    "class Inventory:\n",
    "    def __init__(self):\n",
    "        self.__items = []  #앞에 언더바 2개를 치면, 이 인스턴스는 private이라고 간주\n",
    "        \n",
    "    def add_new_item(self, product):\n",
    "        if type(product) == Product:\n",
    "            self.__items.append(product)\n",
    "            print(\"new item added\")\n",
    "        else:\n",
    "            raise ValueError(\"Invalid item\")\n",
    "            \n",
    "    def get_number_of_items(self):\n",
    "        return len(self.__items)"
   ]
  },
  {
   "cell_type": "code",
   "execution_count": 85,
   "id": "b4a322cf",
   "metadata": {},
   "outputs": [
    {
     "name": "stdout",
     "output_type": "stream",
     "text": [
      "new item added\n",
      "new item added\n"
     ]
    }
   ],
   "source": [
    "my_inventory = Inventory()\n",
    "my_inventory.add_new_item(Product())\n",
    "my_inventory.add_new_item(Product())"
   ]
  },
  {
   "cell_type": "code",
   "execution_count": 86,
   "id": "8786b476",
   "metadata": {},
   "outputs": [
    {
     "ename": "AttributeError",
     "evalue": "'Inventory' object has no attribute '__items'",
     "output_type": "error",
     "traceback": [
      "\u001b[1;31m---------------------------------------------------------------------------\u001b[0m",
      "\u001b[1;31mAttributeError\u001b[0m                            Traceback (most recent call last)",
      "\u001b[1;32m<ipython-input-86-ad453f524fc2>\u001b[0m in \u001b[0;36m<module>\u001b[1;34m\u001b[0m\n\u001b[1;32m----> 1\u001b[1;33m \u001b[0mprint\u001b[0m\u001b[1;33m(\u001b[0m\u001b[0mmy_inventory\u001b[0m\u001b[1;33m.\u001b[0m\u001b[0m__items\u001b[0m\u001b[1;33m)\u001b[0m  \u001b[1;31m# Private이므로 접근불가\u001b[0m\u001b[1;33m\u001b[0m\u001b[1;33m\u001b[0m\u001b[0m\n\u001b[0m",
      "\u001b[1;31mAttributeError\u001b[0m: 'Inventory' object has no attribute '__items'"
     ]
    }
   ],
   "source": [
    "print(my_inventory.__items)  # Private이므로 접근불가"
   ]
  },
  {
   "cell_type": "code",
   "execution_count": 87,
   "id": "31f662a8",
   "metadata": {},
   "outputs": [],
   "source": [
    "class Inventory:\n",
    "    def __init__(self):\n",
    "        self.__items = []  #앞에 언더바 2개를 치면, 이 인스턴스는 private이라고 간주\n",
    "        \n",
    "    def add_new_item(self, product):\n",
    "        if type(product) == Product:\n",
    "            self.__items.append(product)\n",
    "            print(\"new item added\")\n",
    "        else:\n",
    "            raise ValueError(\"Invalid item\")\n",
    "            \n",
    "    def get_number_of_items(self):\n",
    "        return len(self.__items)\n",
    "    \n",
    "    @property\n",
    "    def items(self):\n",
    "        return self.__items"
   ]
  },
  {
   "cell_type": "code",
   "execution_count": 88,
   "id": "444b9e9a",
   "metadata": {},
   "outputs": [],
   "source": [
    "inventory = Inventory()"
   ]
  },
  {
   "cell_type": "code",
   "execution_count": 69,
   "id": "6e0eb639",
   "metadata": {},
   "outputs": [],
   "source": [
    "items = inventory.items\n",
    "items.append(Product())"
   ]
  },
  {
   "cell_type": "code",
   "execution_count": 71,
   "id": "0634bf9f",
   "metadata": {},
   "outputs": [],
   "source": [
    "import fah_converter"
   ]
  },
  {
   "cell_type": "code",
   "execution_count": 72,
   "id": "0163f797",
   "metadata": {},
   "outputs": [
    {
     "name": "stdout",
     "output_type": "stream",
     "text": [
      "Enter a celsius value:32\n",
      "It's 89.6 degree Fahrenheit\n"
     ]
    }
   ],
   "source": [
    "celsius = float(input(\"Enter a celsius value:\"))\n",
    "fahrenheit = fah_converter.convert_to_f(celsius)\n",
    "print(\"It's\", fahrenheit, \"degree Fahrenheit\")"
   ]
  },
  {
   "cell_type": "code",
   "execution_count": 73,
   "id": "b09badcc",
   "metadata": {},
   "outputs": [],
   "source": [
    "import fah_converter as fah"
   ]
  },
  {
   "cell_type": "code",
   "execution_count": 75,
   "id": "82e0b3ed",
   "metadata": {},
   "outputs": [
    {
     "name": "stdout",
     "output_type": "stream",
     "text": [
      "80.6\n"
     ]
    }
   ],
   "source": [
    "print(fah.convert_to_f(27))"
   ]
  },
  {
   "cell_type": "code",
   "execution_count": 76,
   "id": "80be8782",
   "metadata": {},
   "outputs": [],
   "source": [
    "from fah_converter import convert_to_f"
   ]
  },
  {
   "cell_type": "code",
   "execution_count": 77,
   "id": "1de72cd7",
   "metadata": {},
   "outputs": [
    {
     "name": "stdout",
     "output_type": "stream",
     "text": [
      "80.6\n"
     ]
    }
   ],
   "source": [
    "print(convert_to_f(27))"
   ]
  },
  {
   "cell_type": "code",
   "execution_count": 78,
   "id": "de77650e",
   "metadata": {},
   "outputs": [],
   "source": [
    "from fah_converter import *"
   ]
  },
  {
   "cell_type": "code",
   "execution_count": 79,
   "id": "737e5a2b",
   "metadata": {},
   "outputs": [
    {
     "name": "stdout",
     "output_type": "stream",
     "text": [
      "80.6\n"
     ]
    }
   ],
   "source": [
    "print(convert_to_f(27))"
   ]
  },
  {
   "cell_type": "code",
   "execution_count": 80,
   "id": "f8e0a93b",
   "metadata": {},
   "outputs": [],
   "source": [
    "import sys"
   ]
  },
  {
   "cell_type": "code",
   "execution_count": 81,
   "id": "f648e02b",
   "metadata": {},
   "outputs": [
    {
     "name": "stdout",
     "output_type": "stream",
     "text": [
      "['C:\\\\EDU_BIT\\\\python', 'C:\\\\Users\\\\relea\\\\.conda\\\\envs\\\\python-env\\\\python38.zip', 'C:\\\\Users\\\\relea\\\\.conda\\\\envs\\\\python-env\\\\DLLs', 'C:\\\\Users\\\\relea\\\\.conda\\\\envs\\\\python-env\\\\lib', 'C:\\\\Users\\\\relea\\\\.conda\\\\envs\\\\python-env', '', 'C:\\\\Users\\\\relea\\\\.conda\\\\envs\\\\python-env\\\\lib\\\\site-packages', 'C:\\\\Users\\\\relea\\\\.conda\\\\envs\\\\python-env\\\\lib\\\\site-packages\\\\win32', 'C:\\\\Users\\\\relea\\\\.conda\\\\envs\\\\python-env\\\\lib\\\\site-packages\\\\win32\\\\lib', 'C:\\\\Users\\\\relea\\\\.conda\\\\envs\\\\python-env\\\\lib\\\\site-packages\\\\Pythonwin', 'C:\\\\Users\\\\relea\\\\.conda\\\\envs\\\\python-env\\\\lib\\\\site-packages\\\\IPython\\\\extensions', 'C:\\\\Users\\\\relea\\\\.ipython']\n"
     ]
    }
   ],
   "source": [
    "print(sys.path)"
   ]
  },
  {
   "cell_type": "code",
   "execution_count": 82,
   "id": "1138c915",
   "metadata": {},
   "outputs": [],
   "source": [
    "sys.path.append(\"C:\\\\EDU_BIT\\\\python\\\\hy_package\")"
   ]
  },
  {
   "cell_type": "code",
   "execution_count": 83,
   "id": "a5e5a09c",
   "metadata": {},
   "outputs": [
    {
     "name": "stdout",
     "output_type": "stream",
     "text": [
      "['C:\\\\EDU_BIT\\\\python', 'C:\\\\Users\\\\relea\\\\.conda\\\\envs\\\\python-env\\\\python38.zip', 'C:\\\\Users\\\\relea\\\\.conda\\\\envs\\\\python-env\\\\DLLs', 'C:\\\\Users\\\\relea\\\\.conda\\\\envs\\\\python-env\\\\lib', 'C:\\\\Users\\\\relea\\\\.conda\\\\envs\\\\python-env', '', 'C:\\\\Users\\\\relea\\\\.conda\\\\envs\\\\python-env\\\\lib\\\\site-packages', 'C:\\\\Users\\\\relea\\\\.conda\\\\envs\\\\python-env\\\\lib\\\\site-packages\\\\win32', 'C:\\\\Users\\\\relea\\\\.conda\\\\envs\\\\python-env\\\\lib\\\\site-packages\\\\win32\\\\lib', 'C:\\\\Users\\\\relea\\\\.conda\\\\envs\\\\python-env\\\\lib\\\\site-packages\\\\Pythonwin', 'C:\\\\Users\\\\relea\\\\.conda\\\\envs\\\\python-env\\\\lib\\\\site-packages\\\\IPython\\\\extensions', 'C:\\\\Users\\\\relea\\\\.ipython', 'C:\\\\EDU_BIT\\\\python\\\\hy_package']\n"
     ]
    }
   ],
   "source": [
    "print(sys.path)"
   ]
  },
  {
   "cell_type": "code",
   "execution_count": 84,
   "id": "7f756cb1",
   "metadata": {},
   "outputs": [
    {
     "ename": "AttributeError",
     "evalue": "module 'roboadvisor.analysis.series' has no attribute 'seires_test'",
     "output_type": "error",
     "traceback": [
      "\u001b[1;31m---------------------------------------------------------------------------\u001b[0m",
      "\u001b[1;31mAttributeError\u001b[0m                            Traceback (most recent call last)",
      "\u001b[1;32m<ipython-input-84-659878016b3b>\u001b[0m in \u001b[0;36m<module>\u001b[1;34m\u001b[0m\n\u001b[0;32m      1\u001b[0m \u001b[1;32mimport\u001b[0m \u001b[0mroboadvisor\u001b[0m\u001b[1;33m.\u001b[0m\u001b[0manalysis\u001b[0m\u001b[1;33m.\u001b[0m\u001b[0mseries\u001b[0m\u001b[1;33m\u001b[0m\u001b[1;33m\u001b[0m\u001b[0m\n\u001b[1;32m----> 2\u001b[1;33m \u001b[0mroboadvisor\u001b[0m\u001b[1;33m.\u001b[0m\u001b[0manalysis\u001b[0m\u001b[1;33m.\u001b[0m\u001b[0mseries\u001b[0m\u001b[1;33m.\u001b[0m\u001b[0mseires_test\u001b[0m\u001b[1;33m(\u001b[0m\u001b[1;33m)\u001b[0m\u001b[1;33m\u001b[0m\u001b[1;33m\u001b[0m\u001b[0m\n\u001b[0m",
      "\u001b[1;31mAttributeError\u001b[0m: module 'roboadvisor.analysis.series' has no attribute 'seires_test'"
     ]
    }
   ],
   "source": [
    "import roboadvisor.analysis.series\n",
    "roboadvisor.analysis.series.seires_test()"
   ]
  },
  {
   "cell_type": "code",
   "execution_count": 85,
   "id": "a36fa7e6",
   "metadata": {},
   "outputs": [
    {
     "name": "stdout",
     "output_type": "stream",
     "text": [
      "series\n"
     ]
    }
   ],
   "source": [
    "import roboadvisor.analysis.series\n",
    "roboadvisor.analysis.series.series_test()"
   ]
  },
  {
   "cell_type": "code",
   "execution_count": 86,
   "id": "e6f781b5",
   "metadata": {},
   "outputs": [
    {
     "name": "stdout",
     "output_type": "stream",
     "text": [
      "series\n"
     ]
    }
   ],
   "source": [
    "from roboadvisor.analysis import series\n",
    "series.series_test()"
   ]
  },
  {
   "cell_type": "code",
   "execution_count": 87,
   "id": "98f942ac",
   "metadata": {},
   "outputs": [
    {
     "name": "stdout",
     "output_type": "stream",
     "text": [
      "series\n"
     ]
    }
   ],
   "source": [
    "from roboadvisor.analysis.series import series_test\n",
    "series_test()"
   ]
  },
  {
   "cell_type": "code",
   "execution_count": 1,
   "id": "b2f178ff",
   "metadata": {},
   "outputs": [
    {
     "ename": "ModuleNotFoundError",
     "evalue": "No module named 'roboadvisor'",
     "output_type": "error",
     "traceback": [
      "\u001b[1;31m---------------------------------------------------------------------------\u001b[0m",
      "\u001b[1;31mModuleNotFoundError\u001b[0m                       Traceback (most recent call last)",
      "\u001b[1;32m<ipython-input-1-873347f032ba>\u001b[0m in \u001b[0;36m<module>\u001b[1;34m\u001b[0m\n\u001b[1;32m----> 1\u001b[1;33m \u001b[1;32mimport\u001b[0m \u001b[0mroboadvisor\u001b[0m\u001b[1;33m\u001b[0m\u001b[1;33m\u001b[0m\u001b[0m\n\u001b[0m\u001b[0;32m      2\u001b[0m \u001b[0mroboadvisor\u001b[0m\u001b[1;33m.\u001b[0m\u001b[0manalysis\u001b[0m\u001b[1;33m.\u001b[0m\u001b[0mseries\u001b[0m\u001b[1;33m.\u001b[0m\u001b[0mseries_test\u001b[0m\u001b[1;33m(\u001b[0m\u001b[1;33m)\u001b[0m\u001b[1;33m\u001b[0m\u001b[1;33m\u001b[0m\u001b[0m\n",
      "\u001b[1;31mModuleNotFoundError\u001b[0m: No module named 'roboadvisor'"
     ]
    }
   ],
   "source": [
    "import roboadvisor\n",
    "roboadvisor.analysis.series.series_test()"
   ]
  },
  {
   "cell_type": "code",
   "execution_count": 1,
   "id": "7154c8ec",
   "metadata": {},
   "outputs": [
    {
     "ename": "ModuleNotFoundError",
     "evalue": "No module named 'roboadvisor.analysis.series.series_test'; 'roboadvisor.analysis.series' is not a package",
     "output_type": "error",
     "traceback": [
      "\u001b[1;31m---------------------------------------------------------------------------\u001b[0m",
      "\u001b[1;31mModuleNotFoundError\u001b[0m                       Traceback (most recent call last)",
      "\u001b[1;32m<ipython-input-1-680c7ec8bae0>\u001b[0m in \u001b[0;36m<module>\u001b[1;34m\u001b[0m\n\u001b[0;32m      1\u001b[0m \u001b[1;32mimport\u001b[0m \u001b[0msys\u001b[0m\u001b[1;33m\u001b[0m\u001b[1;33m\u001b[0m\u001b[0m\n\u001b[0;32m      2\u001b[0m \u001b[0msys\u001b[0m\u001b[1;33m.\u001b[0m\u001b[0mpath\u001b[0m\u001b[1;33m.\u001b[0m\u001b[0mappend\u001b[0m\u001b[1;33m(\u001b[0m\u001b[1;34m\"C:\\\\EDU_BIT\\\\python\\\\hy_package\"\u001b[0m\u001b[1;33m)\u001b[0m\u001b[1;33m\u001b[0m\u001b[1;33m\u001b[0m\u001b[0m\n\u001b[1;32m----> 3\u001b[1;33m \u001b[1;32mimport\u001b[0m \u001b[0mroboadvisor\u001b[0m\u001b[1;33m.\u001b[0m\u001b[0manalysis\u001b[0m\u001b[1;33m.\u001b[0m\u001b[0mseries\u001b[0m\u001b[1;33m.\u001b[0m\u001b[0mseries_test\u001b[0m\u001b[1;33m\u001b[0m\u001b[1;33m\u001b[0m\u001b[0m\n\u001b[0m\u001b[0;32m      4\u001b[0m \u001b[0mseries_test\u001b[0m\u001b[1;33m(\u001b[0m\u001b[1;33m)\u001b[0m\u001b[1;33m\u001b[0m\u001b[1;33m\u001b[0m\u001b[0m\n",
      "\u001b[1;31mModuleNotFoundError\u001b[0m: No module named 'roboadvisor.analysis.series.series_test'; 'roboadvisor.analysis.series' is not a package"
     ]
    }
   ],
   "source": [
    "import sys\n",
    "sys.path.append(\"C:\\\\EDU_BIT\\\\python\\\\hy_package\")\n",
    "import roboadvisor.analysis.series.series_test\n",
    "series_test()"
   ]
  },
  {
   "cell_type": "code",
   "execution_count": 1,
   "id": "82b24958",
   "metadata": {},
   "outputs": [
    {
     "ename": "NameError",
     "evalue": "name 'series' is not defined",
     "output_type": "error",
     "traceback": [
      "\u001b[1;31m---------------------------------------------------------------------------\u001b[0m",
      "\u001b[1;31mNameError\u001b[0m                                 Traceback (most recent call last)",
      "\u001b[1;32m<ipython-input-1-24fa211fa5d8>\u001b[0m in \u001b[0;36m<module>\u001b[1;34m\u001b[0m\n\u001b[0;32m      2\u001b[0m \u001b[0msys\u001b[0m\u001b[1;33m.\u001b[0m\u001b[0mpath\u001b[0m\u001b[1;33m.\u001b[0m\u001b[0mappend\u001b[0m\u001b[1;33m(\u001b[0m\u001b[1;34m\"C:\\\\EDU_BIT\\\\python\\\\hy_package\"\u001b[0m\u001b[1;33m)\u001b[0m\u001b[1;33m\u001b[0m\u001b[1;33m\u001b[0m\u001b[0m\n\u001b[0;32m      3\u001b[0m \u001b[1;32mfrom\u001b[0m \u001b[0mroboadvisor\u001b[0m\u001b[1;33m.\u001b[0m\u001b[0manalysis\u001b[0m \u001b[1;32mimport\u001b[0m \u001b[1;33m*\u001b[0m\u001b[1;33m\u001b[0m\u001b[1;33m\u001b[0m\u001b[0m\n\u001b[1;32m----> 4\u001b[1;33m \u001b[0mseries\u001b[0m\u001b[1;33m.\u001b[0m\u001b[0mseries_test\u001b[0m\u001b[1;33m(\u001b[0m\u001b[1;33m)\u001b[0m\u001b[1;33m\u001b[0m\u001b[1;33m\u001b[0m\u001b[0m\n\u001b[0m",
      "\u001b[1;31mNameError\u001b[0m: name 'series' is not defined"
     ]
    }
   ],
   "source": [
    "import sys\n",
    "sys.path.append(\"C:\\\\EDU_BIT\\\\python\\\\hy_package\")\n",
    "from roboadvisor.analysis import *\n",
    "series.series_test()"
   ]
  },
  {
   "cell_type": "code",
   "execution_count": 1,
   "id": "76e5ad50",
   "metadata": {},
   "outputs": [
    {
     "name": "stdout",
     "output_type": "stream",
     "text": [
      "series\n"
     ]
    }
   ],
   "source": [
    "import sys\n",
    "sys.path.append(\"C:\\\\EDU_BIT\\\\python\\\\hy_package\")\n",
    "from roboadvisor.analysis import *\n",
    "series.series_test()"
   ]
  },
  {
   "cell_type": "code",
   "execution_count": 2,
   "id": "dea957c1",
   "metadata": {},
   "outputs": [
    {
     "name": "stdout",
     "output_type": "stream",
     "text": [
      "series\n"
     ]
    }
   ],
   "source": [
    "import sys\n",
    "sys.path.append(\"C:\\\\EDU_BIT\\\\python\\\\hy_package\")\n",
    "from roboadvisor.analysis.series import *\n",
    "series_test()"
   ]
  },
  {
   "cell_type": "code",
   "execution_count": 3,
   "id": "ec24ca27",
   "metadata": {},
   "outputs": [
    {
     "name": "stdout",
     "output_type": "stream",
     "text": [
      "series\n"
     ]
    }
   ],
   "source": [
    "import sys\n",
    "sys.path.append(\"C:\\\\EDU_BIT\\\\python\\\\hy_package\")\n",
    "import roboadvisor\n",
    "roboadvisor.analysis.series.series_test()"
   ]
  },
  {
   "cell_type": "code",
   "execution_count": 1,
   "id": "fb095fc0",
   "metadata": {},
   "outputs": [
    {
     "name": "stdout",
     "output_type": "stream",
     "text": [
      "scrap\n",
      "connection\n"
     ]
    }
   ],
   "source": [
    "import sys\n",
    "sys.path.append(\"C:\\\\EDU_BIT\\\\python\\\\hy_package\")\n",
    "from roboadvisor.crawling.scrap import scrap_test\n",
    "scrap_test()"
   ]
  },
  {
   "cell_type": "code",
   "execution_count": 2,
   "id": "f0efe671",
   "metadata": {},
   "outputs": [
    {
     "ename": "ZeroDivisionError",
     "evalue": "division by zero",
     "output_type": "error",
     "traceback": [
      "\u001b[1;31m---------------------------------------------------------------------------\u001b[0m",
      "\u001b[1;31mZeroDivisionError\u001b[0m                         Traceback (most recent call last)",
      "\u001b[1;32m<ipython-input-2-779f56ac8b21>\u001b[0m in \u001b[0;36m<module>\u001b[1;34m\u001b[0m\n\u001b[0;32m      1\u001b[0m \u001b[1;32mfor\u001b[0m \u001b[0mi\u001b[0m \u001b[1;32min\u001b[0m \u001b[0mrange\u001b[0m\u001b[1;33m(\u001b[0m\u001b[1;36m10\u001b[0m\u001b[1;33m)\u001b[0m\u001b[1;33m:\u001b[0m\u001b[1;33m\u001b[0m\u001b[1;33m\u001b[0m\u001b[0m\n\u001b[1;32m----> 2\u001b[1;33m     \u001b[0mprint\u001b[0m\u001b[1;33m(\u001b[0m\u001b[1;36m10\u001b[0m \u001b[1;33m/\u001b[0m \u001b[0mi\u001b[0m\u001b[1;33m)\u001b[0m\u001b[1;33m\u001b[0m\u001b[1;33m\u001b[0m\u001b[0m\n\u001b[0m",
      "\u001b[1;31mZeroDivisionError\u001b[0m: division by zero"
     ]
    }
   ],
   "source": [
    "for i in range(10):\n",
    "    print(10 / i)"
   ]
  },
  {
   "cell_type": "code",
   "execution_count": 3,
   "id": "4dba8a3c",
   "metadata": {},
   "outputs": [
    {
     "name": "stdout",
     "output_type": "stream",
     "text": [
      "Not divided by 0\n",
      "10.0\n",
      "5.0\n",
      "3.3333333333333335\n",
      "2.5\n",
      "2.0\n",
      "1.6666666666666667\n",
      "1.4285714285714286\n",
      "1.25\n",
      "1.1111111111111112\n"
     ]
    }
   ],
   "source": [
    "for i in range(10):\n",
    "    try:\n",
    "        print(10/i)\n",
    "    except:\n",
    "        print(\"Not divided by 0\")   # 모든 exception이 다 걸림"
   ]
  },
  {
   "cell_type": "code",
   "execution_count": 4,
   "id": "8e2634f9",
   "metadata": {},
   "outputs": [
    {
     "name": "stdout",
     "output_type": "stream",
     "text": [
      "division by zero\n",
      "Not divided by 0\n",
      "10.0\n",
      "5.0\n",
      "3.3333333333333335\n",
      "2.5\n",
      "2.0\n",
      "1.6666666666666667\n",
      "1.4285714285714286\n",
      "1.25\n",
      "1.1111111111111112\n"
     ]
    }
   ],
   "source": [
    "for i in range(10):\n",
    "    try:\n",
    "        print(10/i)\n",
    "    except ZeroDivisionError as e:  #  특정한 상황에만 \n",
    "        print(e)\n",
    "        print(\"Not divided by 0\")   "
   ]
  },
  {
   "cell_type": "code",
   "execution_count": 5,
   "id": "83b41bdf",
   "metadata": {},
   "outputs": [
    {
     "name": "stdout",
     "output_type": "stream",
     "text": [
      "division by zero\n",
      "Not divided by 0\n",
      "10.0\n",
      "5.0\n",
      "3.3333333333333335\n",
      "2.5\n",
      "2.0\n",
      "1.6666666666666667\n",
      "1.4285714285714286\n",
      "1.25\n",
      "1.1111111111111112\n"
     ]
    }
   ],
   "source": [
    "for i in range(10):\n",
    "    try:\n",
    "        result = 10 / i\n",
    "    except ZeroDivisionError as e:  \n",
    "        print(e)\n",
    "        print(\"Not divided by 0\")   \n",
    "    else:\n",
    "        print(result)"
   ]
  },
  {
   "cell_type": "code",
   "execution_count": 6,
   "id": "489a7eba",
   "metadata": {},
   "outputs": [
    {
     "name": "stdout",
     "output_type": "stream",
     "text": [
      "10\n",
      "5\n",
      "3\n",
      "2\n",
      "2\n",
      "1\n",
      "1\n",
      "1\n",
      "1\n",
      "프로그램 종료!\n"
     ]
    }
   ],
   "source": [
    "try:\n",
    "    for i in range(1, 10):\n",
    "        result = 10 // i\n",
    "        print(result)\n",
    "except ZeroDivisionError as e:  \n",
    "    print(e)\n",
    "    print(\"Not divided by 0\")   \n",
    "finally:\n",
    "    print(\"프로그램 종료!\")"
   ]
  },
  {
   "cell_type": "code",
   "execution_count": 7,
   "id": "72463f66",
   "metadata": {},
   "outputs": [
    {
     "name": "stdout",
     "output_type": "stream",
     "text": [
      "정수값 입력23\n",
      "숫자로변환:  23\n",
      "정수값 입력5\n",
      "숫자로변환:  5\n",
      "정수값 입력r\n"
     ]
    },
    {
     "ename": "ValueError",
     "evalue": "숫자가 아닙니다.",
     "output_type": "error",
     "traceback": [
      "\u001b[1;31m---------------------------------------------------------------------------\u001b[0m",
      "\u001b[1;31mValueError\u001b[0m                                Traceback (most recent call last)",
      "\u001b[1;32m<ipython-input-7-22998f075df2>\u001b[0m in \u001b[0;36m<module>\u001b[1;34m\u001b[0m\n\u001b[0;32m      3\u001b[0m     \u001b[1;32mfor\u001b[0m \u001b[0mdigit\u001b[0m \u001b[1;32min\u001b[0m \u001b[0mvalue\u001b[0m\u001b[1;33m:\u001b[0m\u001b[1;33m\u001b[0m\u001b[1;33m\u001b[0m\u001b[0m\n\u001b[0;32m      4\u001b[0m         \u001b[1;32mif\u001b[0m \u001b[0mdigit\u001b[0m \u001b[1;32mnot\u001b[0m \u001b[1;32min\u001b[0m \u001b[1;34m'0123456789'\u001b[0m\u001b[1;33m:\u001b[0m\u001b[1;33m\u001b[0m\u001b[1;33m\u001b[0m\u001b[0m\n\u001b[1;32m----> 5\u001b[1;33m             \u001b[1;32mraise\u001b[0m \u001b[0mValueError\u001b[0m\u001b[1;33m(\u001b[0m\u001b[1;34m\"숫자가 아닙니다.\"\u001b[0m\u001b[1;33m)\u001b[0m\u001b[1;33m\u001b[0m\u001b[1;33m\u001b[0m\u001b[0m\n\u001b[0m\u001b[0;32m      6\u001b[0m     \u001b[0mprint\u001b[0m\u001b[1;33m(\u001b[0m\u001b[1;34m\"숫자로변환: \"\u001b[0m\u001b[1;33m,\u001b[0m \u001b[0mint\u001b[0m\u001b[1;33m(\u001b[0m\u001b[0mvalue\u001b[0m\u001b[1;33m)\u001b[0m\u001b[1;33m)\u001b[0m\u001b[1;33m\u001b[0m\u001b[1;33m\u001b[0m\u001b[0m\n\u001b[0;32m      7\u001b[0m \u001b[1;33m\u001b[0m\u001b[0m\n",
      "\u001b[1;31mValueError\u001b[0m: 숫자가 아닙니다."
     ]
    }
   ],
   "source": [
    "while True:\n",
    "    value = input(\"정수값 입력\")\n",
    "    for digit in value:\n",
    "        if digit not in '0123456789':\n",
    "            raise ValueError(\"숫자가 아닙니다.\")\n",
    "    print(\"숫자로변환: \", int(value))\n",
    "            "
   ]
  },
  {
   "cell_type": "code",
   "execution_count": 8,
   "id": "6cd42307",
   "metadata": {},
   "outputs": [],
   "source": [
    "def get_binary_number(decimal_number):\n",
    "    return bin(decimal_number)"
   ]
  },
  {
   "cell_type": "code",
   "execution_count": 9,
   "id": "e199238d",
   "metadata": {},
   "outputs": [
    {
     "name": "stdout",
     "output_type": "stream",
     "text": [
      "0b1100\n"
     ]
    }
   ],
   "source": [
    "print(get_binary_number(12))"
   ]
  },
  {
   "cell_type": "code",
   "execution_count": 10,
   "id": "466438e0",
   "metadata": {},
   "outputs": [
    {
     "ename": "TypeError",
     "evalue": "'str' object cannot be interpreted as an integer",
     "output_type": "error",
     "traceback": [
      "\u001b[1;31m---------------------------------------------------------------------------\u001b[0m",
      "\u001b[1;31mTypeError\u001b[0m                                 Traceback (most recent call last)",
      "\u001b[1;32m<ipython-input-10-e01de5b423ad>\u001b[0m in \u001b[0;36m<module>\u001b[1;34m\u001b[0m\n\u001b[1;32m----> 1\u001b[1;33m \u001b[0mprint\u001b[0m\u001b[1;33m(\u001b[0m\u001b[0mget_binary_number\u001b[0m\u001b[1;33m(\u001b[0m\u001b[1;34m\"12\"\u001b[0m\u001b[1;33m)\u001b[0m\u001b[1;33m)\u001b[0m\u001b[1;33m\u001b[0m\u001b[1;33m\u001b[0m\u001b[0m\n\u001b[0m",
      "\u001b[1;32m<ipython-input-8-d7280fb8d308>\u001b[0m in \u001b[0;36mget_binary_number\u001b[1;34m(decimal_number)\u001b[0m\n\u001b[0;32m      1\u001b[0m \u001b[1;32mdef\u001b[0m \u001b[0mget_binary_number\u001b[0m\u001b[1;33m(\u001b[0m\u001b[0mdecimal_number\u001b[0m\u001b[1;33m)\u001b[0m\u001b[1;33m:\u001b[0m\u001b[1;33m\u001b[0m\u001b[1;33m\u001b[0m\u001b[0m\n\u001b[1;32m----> 2\u001b[1;33m     \u001b[1;32mreturn\u001b[0m \u001b[0mbin\u001b[0m\u001b[1;33m(\u001b[0m\u001b[0mdecimal_number\u001b[0m\u001b[1;33m)\u001b[0m\u001b[1;33m\u001b[0m\u001b[1;33m\u001b[0m\u001b[0m\n\u001b[0m",
      "\u001b[1;31mTypeError\u001b[0m: 'str' object cannot be interpreted as an integer"
     ]
    }
   ],
   "source": [
    "print(get_binary_number(\"12\"))"
   ]
  },
  {
   "cell_type": "code",
   "execution_count": 11,
   "id": "2991e791",
   "metadata": {},
   "outputs": [],
   "source": [
    "def get_binary_number(decimal_number):\n",
    "    assert isinstance(decimal_number, int)\n",
    "    return bin(decimal_number)"
   ]
  },
  {
   "cell_type": "code",
   "execution_count": 12,
   "id": "902ef779",
   "metadata": {},
   "outputs": [
    {
     "name": "stdout",
     "output_type": "stream",
     "text": [
      "0b1100\n"
     ]
    },
    {
     "ename": "AssertionError",
     "evalue": "",
     "output_type": "error",
     "traceback": [
      "\u001b[1;31m---------------------------------------------------------------------------\u001b[0m",
      "\u001b[1;31mAssertionError\u001b[0m                            Traceback (most recent call last)",
      "\u001b[1;32m<ipython-input-12-8d47152fc068>\u001b[0m in \u001b[0;36m<module>\u001b[1;34m\u001b[0m\n\u001b[0;32m      1\u001b[0m \u001b[0mprint\u001b[0m\u001b[1;33m(\u001b[0m\u001b[0mget_binary_number\u001b[0m\u001b[1;33m(\u001b[0m\u001b[1;36m12\u001b[0m\u001b[1;33m)\u001b[0m\u001b[1;33m)\u001b[0m\u001b[1;33m\u001b[0m\u001b[1;33m\u001b[0m\u001b[0m\n\u001b[1;32m----> 2\u001b[1;33m \u001b[0mprint\u001b[0m\u001b[1;33m(\u001b[0m\u001b[0mget_binary_number\u001b[0m\u001b[1;33m(\u001b[0m\u001b[1;34m\"12\"\u001b[0m\u001b[1;33m)\u001b[0m\u001b[1;33m)\u001b[0m\u001b[1;33m\u001b[0m\u001b[1;33m\u001b[0m\u001b[0m\n\u001b[0m",
      "\u001b[1;32m<ipython-input-11-ab88359da700>\u001b[0m in \u001b[0;36mget_binary_number\u001b[1;34m(decimal_number)\u001b[0m\n\u001b[0;32m      1\u001b[0m \u001b[1;32mdef\u001b[0m \u001b[0mget_binary_number\u001b[0m\u001b[1;33m(\u001b[0m\u001b[0mdecimal_number\u001b[0m\u001b[1;33m)\u001b[0m\u001b[1;33m:\u001b[0m\u001b[1;33m\u001b[0m\u001b[1;33m\u001b[0m\u001b[0m\n\u001b[1;32m----> 2\u001b[1;33m     \u001b[1;32massert\u001b[0m \u001b[0misinstance\u001b[0m\u001b[1;33m(\u001b[0m\u001b[0mdecimal_number\u001b[0m\u001b[1;33m,\u001b[0m \u001b[0mint\u001b[0m\u001b[1;33m)\u001b[0m\u001b[1;33m\u001b[0m\u001b[1;33m\u001b[0m\u001b[0m\n\u001b[0m\u001b[0;32m      3\u001b[0m     \u001b[1;32mreturn\u001b[0m \u001b[0mbin\u001b[0m\u001b[1;33m(\u001b[0m\u001b[0mdecimal_number\u001b[0m\u001b[1;33m)\u001b[0m\u001b[1;33m\u001b[0m\u001b[1;33m\u001b[0m\u001b[0m\n",
      "\u001b[1;31mAssertionError\u001b[0m: "
     ]
    }
   ],
   "source": [
    "print(get_binary_number(12))\n",
    "print(get_binary_number(\"12\"))"
   ]
  },
  {
   "cell_type": "code",
   "execution_count": 13,
   "id": "1be41867",
   "metadata": {},
   "outputs": [],
   "source": [
    "def get_binary_number(decimal_number):\n",
    "    assert isinstance(decimal_number, int), \"입력타입 에러\"\n",
    "    return bin(decimal_number)"
   ]
  },
  {
   "cell_type": "code",
   "execution_count": 14,
   "id": "f32c763e",
   "metadata": {},
   "outputs": [
    {
     "ename": "AssertionError",
     "evalue": "입력타입 에러",
     "output_type": "error",
     "traceback": [
      "\u001b[1;31m---------------------------------------------------------------------------\u001b[0m",
      "\u001b[1;31mAssertionError\u001b[0m                            Traceback (most recent call last)",
      "\u001b[1;32m<ipython-input-14-e01de5b423ad>\u001b[0m in \u001b[0;36m<module>\u001b[1;34m\u001b[0m\n\u001b[1;32m----> 1\u001b[1;33m \u001b[0mprint\u001b[0m\u001b[1;33m(\u001b[0m\u001b[0mget_binary_number\u001b[0m\u001b[1;33m(\u001b[0m\u001b[1;34m\"12\"\u001b[0m\u001b[1;33m)\u001b[0m\u001b[1;33m)\u001b[0m\u001b[1;33m\u001b[0m\u001b[1;33m\u001b[0m\u001b[0m\n\u001b[0m",
      "\u001b[1;32m<ipython-input-13-e75876bef335>\u001b[0m in \u001b[0;36mget_binary_number\u001b[1;34m(decimal_number)\u001b[0m\n\u001b[0;32m      1\u001b[0m \u001b[1;32mdef\u001b[0m \u001b[0mget_binary_number\u001b[0m\u001b[1;33m(\u001b[0m\u001b[0mdecimal_number\u001b[0m\u001b[1;33m)\u001b[0m\u001b[1;33m:\u001b[0m\u001b[1;33m\u001b[0m\u001b[1;33m\u001b[0m\u001b[0m\n\u001b[1;32m----> 2\u001b[1;33m     \u001b[1;32massert\u001b[0m \u001b[0misinstance\u001b[0m\u001b[1;33m(\u001b[0m\u001b[0mdecimal_number\u001b[0m\u001b[1;33m,\u001b[0m \u001b[0mint\u001b[0m\u001b[1;33m)\u001b[0m\u001b[1;33m,\u001b[0m \u001b[1;34m\"입력타입 에러\"\u001b[0m\u001b[1;33m\u001b[0m\u001b[1;33m\u001b[0m\u001b[0m\n\u001b[0m\u001b[0;32m      3\u001b[0m     \u001b[1;32mreturn\u001b[0m \u001b[0mbin\u001b[0m\u001b[1;33m(\u001b[0m\u001b[0mdecimal_number\u001b[0m\u001b[1;33m)\u001b[0m\u001b[1;33m\u001b[0m\u001b[1;33m\u001b[0m\u001b[0m\n",
      "\u001b[1;31mAssertionError\u001b[0m: 입력타입 에러"
     ]
    }
   ],
   "source": [
    "print(get_binary_number(\"12\"))"
   ]
  },
  {
   "cell_type": "code",
   "execution_count": 15,
   "id": "c4a3e1ab",
   "metadata": {},
   "outputs": [],
   "source": [
    "def scalar_multiply(c,v):\n",
    "    return [c*i for i in v]"
   ]
  },
  {
   "cell_type": "code",
   "execution_count": 16,
   "id": "a366d81c",
   "metadata": {},
   "outputs": [
    {
     "name": "stdout",
     "output_type": "stream",
     "text": [
      "[2, 4, 6]\n"
     ]
    }
   ],
   "source": [
    "print(scalar_multiply(2,[1,2,3]))"
   ]
  },
  {
   "cell_type": "code",
   "execution_count": 17,
   "id": "9d800fde",
   "metadata": {},
   "outputs": [],
   "source": [
    "assert scalar_multiply(2,[1,2,3]) == [2,4,6]"
   ]
  },
  {
   "cell_type": "code",
   "execution_count": 18,
   "id": "1d8c766c",
   "metadata": {},
   "outputs": [
    {
     "ename": "AssertionError",
     "evalue": "",
     "output_type": "error",
     "traceback": [
      "\u001b[1;31m---------------------------------------------------------------------------\u001b[0m",
      "\u001b[1;31mAssertionError\u001b[0m                            Traceback (most recent call last)",
      "\u001b[1;32m<ipython-input-18-5fa088e4a741>\u001b[0m in \u001b[0;36m<module>\u001b[1;34m\u001b[0m\n\u001b[1;32m----> 1\u001b[1;33m \u001b[1;32massert\u001b[0m \u001b[0mscalar_multiply\u001b[0m\u001b[1;33m(\u001b[0m\u001b[1;36m2\u001b[0m\u001b[1;33m,\u001b[0m\u001b[1;33m[\u001b[0m\u001b[1;36m1\u001b[0m\u001b[1;33m,\u001b[0m\u001b[1;36m2\u001b[0m\u001b[1;33m,\u001b[0m\u001b[1;36m3\u001b[0m\u001b[1;33m]\u001b[0m\u001b[1;33m)\u001b[0m \u001b[1;33m==\u001b[0m \u001b[1;33m[\u001b[0m\u001b[1;36m2\u001b[0m\u001b[1;33m,\u001b[0m\u001b[1;36m1\u001b[0m\u001b[1;33m,\u001b[0m\u001b[1;36m6\u001b[0m\u001b[1;33m]\u001b[0m\u001b[1;33m\u001b[0m\u001b[1;33m\u001b[0m\u001b[0m\n\u001b[0m",
      "\u001b[1;31mAssertionError\u001b[0m: "
     ]
    }
   ],
   "source": [
    "assert scalar_multiply(2,[1,2,3]) == [2,1,6]"
   ]
  },
  {
   "cell_type": "code",
   "execution_count": 19,
   "id": "4c0c122a",
   "metadata": {},
   "outputs": [],
   "source": [
    "def double_func(x):\n",
    "    return x*2"
   ]
  },
  {
   "cell_type": "code",
   "execution_count": 20,
   "id": "e23c951b",
   "metadata": {},
   "outputs": [
    {
     "name": "stdout",
     "output_type": "stream",
     "text": [
      "6\n"
     ]
    }
   ],
   "source": [
    "print(double_func(3))"
   ]
  },
  {
   "cell_type": "code",
   "execution_count": 21,
   "id": "cb9822d0",
   "metadata": {},
   "outputs": [],
   "source": [
    "a = double_func"
   ]
  },
  {
   "cell_type": "code",
   "execution_count": 22,
   "id": "197ee517",
   "metadata": {},
   "outputs": [
    {
     "name": "stdout",
     "output_type": "stream",
     "text": [
      "<function double_func at 0x000002E1C3C0E550>\n",
      "<function double_func at 0x000002E1C3C0E550>\n"
     ]
    }
   ],
   "source": [
    "print(double_func)\n",
    "print(a)"
   ]
  },
  {
   "cell_type": "code",
   "execution_count": 23,
   "id": "c16efc12",
   "metadata": {},
   "outputs": [
    {
     "name": "stdout",
     "output_type": "stream",
     "text": [
      "6\n"
     ]
    }
   ],
   "source": [
    "print(a(3))"
   ]
  },
  {
   "cell_type": "code",
   "execution_count": 24,
   "id": "947d8738",
   "metadata": {},
   "outputs": [],
   "source": [
    "def make_double_list(func, args):\n",
    "    result =[]\n",
    "    for i in args:\n",
    "        result.append(func(i))\n",
    "        \n",
    "    return result"
   ]
  },
  {
   "cell_type": "code",
   "execution_count": 25,
   "id": "6239ccb7",
   "metadata": {},
   "outputs": [],
   "source": [
    "input_list = [1,2,3,4,5]\n",
    "doubles = make_double_list(double_func, input_list)"
   ]
  },
  {
   "cell_type": "code",
   "execution_count": 27,
   "id": "f3700b24",
   "metadata": {},
   "outputs": [
    {
     "name": "stdout",
     "output_type": "stream",
     "text": [
      "[2, 4, 6, 8, 10]\n"
     ]
    }
   ],
   "source": [
    "print(doubles)"
   ]
  },
  {
   "cell_type": "code",
   "execution_count": 28,
   "id": "4c57203f",
   "metadata": {},
   "outputs": [],
   "source": [
    "def square(x):\n",
    "    return x * x"
   ]
  },
  {
   "cell_type": "code",
   "execution_count": 29,
   "id": "34c9199c",
   "metadata": {},
   "outputs": [],
   "source": [
    "def reflect(x):\n",
    "    return -x"
   ]
  },
  {
   "cell_type": "code",
   "execution_count": 31,
   "id": "19c69f11",
   "metadata": {},
   "outputs": [
    {
     "name": "stdout",
     "output_type": "stream",
     "text": [
      "[2, 4, 6, 8, 10]\n",
      "[1, 4, 9, 16, 25]\n",
      "[-1, -2, -3, -4, -5]\n"
     ]
    }
   ],
   "source": [
    "doubles = make_double_list(double_func, input_list)\n",
    "squares = make_double_list(square, input_list)\n",
    "reflects = make_double_list(reflect, input_list)\n",
    "\n",
    "print(doubles)\n",
    "print(squares)\n",
    "print(reflects)"
   ]
  },
  {
   "cell_type": "code",
   "execution_count": 32,
   "id": "79243f4d",
   "metadata": {},
   "outputs": [],
   "source": [
    "import time\n",
    "\n",
    "def log_formatter(msg):\n",
    "    \n",
    "    def log_message():\n",
    "        time_str = time.strftime(\"%c\", time.localtime(time.time()))\n",
    "        print(time_str, end='')\n",
    "        print(\"---->\", end='')\n",
    "        print(msg)\n",
    "        \n",
    "    return log_message"
   ]
  },
  {
   "cell_type": "code",
   "execution_count": 33,
   "id": "254c3f66",
   "metadata": {},
   "outputs": [
    {
     "name": "stdout",
     "output_type": "stream",
     "text": [
      "<function log_formatter.<locals>.log_message at 0x000002E1C3C0ED30>\n"
     ]
    }
   ],
   "source": [
    "log_msg = log_formatter('test log')\n",
    "print(log_msg)"
   ]
  },
  {
   "cell_type": "code",
   "execution_count": 34,
   "id": "5c451ecf",
   "metadata": {},
   "outputs": [
    {
     "name": "stdout",
     "output_type": "stream",
     "text": [
      "Fri Aug 20 15:42:53 2021---->test log\n"
     ]
    }
   ],
   "source": [
    "log_msg()"
   ]
  },
  {
   "cell_type": "code",
   "execution_count": 35,
   "id": "67f676bb",
   "metadata": {},
   "outputs": [],
   "source": [
    "del log_formatter"
   ]
  },
  {
   "cell_type": "code",
   "execution_count": 36,
   "id": "367155f1",
   "metadata": {},
   "outputs": [
    {
     "name": "stdout",
     "output_type": "stream",
     "text": [
      "log_formatter 함수는 사라졌다.\n"
     ]
    }
   ],
   "source": [
    "try:\n",
    "    print(log_formatter)\n",
    "except NameError:\n",
    "    print(\"log_formatter 함수는 사라졌다.\")\n",
    "    "
   ]
  },
  {
   "cell_type": "code",
   "execution_count": 37,
   "id": "044b07d2",
   "metadata": {},
   "outputs": [
    {
     "name": "stdout",
     "output_type": "stream",
     "text": [
      "Fri Aug 20 16:06:10 2021---->test log\n"
     ]
    }
   ],
   "source": [
    "log_msg()"
   ]
  },
  {
   "cell_type": "code",
   "execution_count": 47,
   "id": "fa0b6d8e",
   "metadata": {},
   "outputs": [],
   "source": [
    "def outer_func():\n",
    "    msg = \"Good Morning!\"\n",
    "    \n",
    "    def inner_func():\n",
    "        print(msg)  #괄호가 있고 없고는 다름(위에랑 비교)\n",
    "        \n",
    "    return inner_func"
   ]
  },
  {
   "cell_type": "code",
   "execution_count": 48,
   "id": "f11ab9db",
   "metadata": {},
   "outputs": [
    {
     "name": "stdout",
     "output_type": "stream",
     "text": [
      "<function outer_func.<locals>.inner_func at 0x000002E1C3C0E8B0>\n",
      "Good Morning!\n"
     ]
    }
   ],
   "source": [
    "func = outer_func()\n",
    "print(func)\n",
    "func()"
   ]
  },
  {
   "cell_type": "code",
   "execution_count": 49,
   "id": "c8f06f40",
   "metadata": {},
   "outputs": [
    {
     "name": "stdout",
     "output_type": "stream",
     "text": [
      "['__annotations__', '__call__', '__class__', '__closure__', '__code__', '__defaults__', '__delattr__', '__dict__', '__dir__', '__doc__', '__eq__', '__format__', '__ge__', '__get__', '__getattribute__', '__globals__', '__gt__', '__hash__', '__init__', '__init_subclass__', '__kwdefaults__', '__le__', '__lt__', '__module__', '__name__', '__ne__', '__new__', '__qualname__', '__reduce__', '__reduce_ex__', '__repr__', '__setattr__', '__sizeof__', '__str__', '__subclasshook__']\n"
     ]
    }
   ],
   "source": [
    "print(dir(func))"
   ]
  },
  {
   "cell_type": "code",
   "execution_count": 50,
   "id": "91d07756",
   "metadata": {},
   "outputs": [
    {
     "name": "stdout",
     "output_type": "stream",
     "text": [
      "<class 'tuple'>\n"
     ]
    }
   ],
   "source": [
    "print(type(func.__closure__))"
   ]
  },
  {
   "cell_type": "code",
   "execution_count": 51,
   "id": "cd8a417a",
   "metadata": {},
   "outputs": [
    {
     "name": "stdout",
     "output_type": "stream",
     "text": [
      "(<cell at 0x000002E1C3C1E5E0: str object at 0x000002E1C3C2C530>,)\n"
     ]
    }
   ],
   "source": [
    "print(func.__closure__)"
   ]
  },
  {
   "cell_type": "code",
   "execution_count": 52,
   "id": "974e1a4c",
   "metadata": {},
   "outputs": [
    {
     "name": "stdout",
     "output_type": "stream",
     "text": [
      "<cell at 0x000002E1C3C1E5E0: str object at 0x000002E1C3C2C530>\n"
     ]
    }
   ],
   "source": [
    "print(func.__closure__[0])"
   ]
  },
  {
   "cell_type": "code",
   "execution_count": 53,
   "id": "8d690416",
   "metadata": {},
   "outputs": [
    {
     "name": "stdout",
     "output_type": "stream",
     "text": [
      "['__class__', '__delattr__', '__dir__', '__doc__', '__eq__', '__format__', '__ge__', '__getattribute__', '__gt__', '__hash__', '__init__', '__init_subclass__', '__le__', '__lt__', '__ne__', '__new__', '__reduce__', '__reduce_ex__', '__repr__', '__setattr__', '__sizeof__', '__str__', '__subclasshook__', 'cell_contents']\n"
     ]
    }
   ],
   "source": [
    "print(dir(func.__closure__[0]))"
   ]
  },
  {
   "cell_type": "code",
   "execution_count": 54,
   "id": "d52122c1",
   "metadata": {},
   "outputs": [
    {
     "name": "stdout",
     "output_type": "stream",
     "text": [
      "Good Morning!\n"
     ]
    }
   ],
   "source": [
    "print(func.__closure__[0].cell_contents)"
   ]
  },
  {
   "cell_type": "code",
   "execution_count": 55,
   "id": "ddca93b4",
   "metadata": {},
   "outputs": [],
   "source": [
    "class TestClass:\n",
    "    class_var = 100\n",
    "    def __init__(self):\n",
    "        self.instance_var = 10"
   ]
  },
  {
   "cell_type": "code",
   "execution_count": 56,
   "id": "dc5f4eda",
   "metadata": {},
   "outputs": [
    {
     "name": "stdout",
     "output_type": "stream",
     "text": [
      "100\n"
     ]
    }
   ],
   "source": [
    "print(TestClass.class_var)"
   ]
  },
  {
   "cell_type": "code",
   "execution_count": null,
   "id": "1357d184",
   "metadata": {},
   "outputs": [],
   "source": []
  }
 ],
 "metadata": {
  "kernelspec": {
   "display_name": "Python 3 (ipykernel)",
   "language": "python",
   "name": "python3"
  },
  "language_info": {
   "codemirror_mode": {
    "name": "ipython",
    "version": 3
   },
   "file_extension": ".py",
   "mimetype": "text/x-python",
   "name": "python",
   "nbconvert_exporter": "python",
   "pygments_lexer": "ipython3",
   "version": "3.8.12"
  }
 },
 "nbformat": 4,
 "nbformat_minor": 5
}

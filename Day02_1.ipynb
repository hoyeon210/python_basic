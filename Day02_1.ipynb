{
 "cells": [
  {
   "cell_type": "code",
   "execution_count": 1,
   "id": "186350a6",
   "metadata": {},
   "outputs": [
    {
     "name": "stdout",
     "output_type": "stream",
     "text": [
      "[1, 2, 3, 4, 5, 10, 20]\n"
     ]
    }
   ],
   "source": [
    "a = [1,2,3,4,5]\n",
    "a.append(10)\n",
    "a.append(20)\n",
    "print(a)"
   ]
  },
  {
   "cell_type": "code",
   "execution_count": 2,
   "id": "5d3183f7",
   "metadata": {},
   "outputs": [
    {
     "name": "stdout",
     "output_type": "stream",
     "text": [
      "1\n"
     ]
    }
   ],
   "source": [
    "print(a.pop(0))"
   ]
  },
  {
   "cell_type": "code",
   "execution_count": 3,
   "id": "aff13c89",
   "metadata": {},
   "outputs": [
    {
     "name": "stdout",
     "output_type": "stream",
     "text": [
      "[2, 3, 4, 5, 10, 20]\n"
     ]
    }
   ],
   "source": [
    "print(a)"
   ]
  },
  {
   "cell_type": "code",
   "execution_count": 4,
   "id": "59c0a0f7",
   "metadata": {},
   "outputs": [
    {
     "name": "stdout",
     "output_type": "stream",
     "text": [
      "(1, 2, 3, 1, 2, 3) (1, 2, 3, 1, 2, 3)\n"
     ]
    }
   ],
   "source": [
    "t = (1,2,3)\n",
    "print(t+t, t*2)"
   ]
  },
  {
   "cell_type": "code",
   "execution_count": 5,
   "id": "504a1131",
   "metadata": {},
   "outputs": [
    {
     "name": "stdout",
     "output_type": "stream",
     "text": [
      "3\n"
     ]
    }
   ],
   "source": [
    "print(len(t))"
   ]
  },
  {
   "cell_type": "code",
   "execution_count": 6,
   "id": "5625ce44",
   "metadata": {},
   "outputs": [],
   "source": [
    "t2 = (1)"
   ]
  },
  {
   "cell_type": "code",
   "execution_count": 7,
   "id": "1e3a2cad",
   "metadata": {},
   "outputs": [
    {
     "name": "stdout",
     "output_type": "stream",
     "text": [
      "<class 'int'>\n"
     ]
    }
   ],
   "source": [
    "print(type(t2))"
   ]
  },
  {
   "cell_type": "code",
   "execution_count": 8,
   "id": "28c539e1",
   "metadata": {},
   "outputs": [
    {
     "name": "stdout",
     "output_type": "stream",
     "text": [
      "<class 'tuple'>\n"
     ]
    }
   ],
   "source": [
    "t2 = (1, )\n",
    "print(type(t2))"
   ]
  },
  {
   "cell_type": "code",
   "execution_count": 9,
   "id": "09eeb2c4",
   "metadata": {},
   "outputs": [
    {
     "name": "stdout",
     "output_type": "stream",
     "text": [
      "(1, 2, 3)\n",
      "2\n"
     ]
    }
   ],
   "source": [
    "print(t)\n",
    "print(t[1])"
   ]
  },
  {
   "cell_type": "code",
   "execution_count": 10,
   "id": "e31b8eff",
   "metadata": {},
   "outputs": [
    {
     "ename": "TypeError",
     "evalue": "'tuple' object does not support item assignment",
     "output_type": "error",
     "traceback": [
      "\u001b[1;31m---------------------------------------------------------------------------\u001b[0m",
      "\u001b[1;31mTypeError\u001b[0m                                 Traceback (most recent call last)",
      "\u001b[1;32m<ipython-input-10-63225d1afe21>\u001b[0m in \u001b[0;36m<module>\u001b[1;34m\u001b[0m\n\u001b[1;32m----> 1\u001b[1;33m \u001b[0mt\u001b[0m\u001b[1;33m[\u001b[0m\u001b[1;36m1\u001b[0m\u001b[1;33m]\u001b[0m \u001b[1;33m=\u001b[0m\u001b[1;36m10\u001b[0m\u001b[1;33m\u001b[0m\u001b[1;33m\u001b[0m\u001b[0m\n\u001b[0m",
      "\u001b[1;31mTypeError\u001b[0m: 'tuple' object does not support item assignment"
     ]
    }
   ],
   "source": [
    "t[1] =10\n"
   ]
  },
  {
   "cell_type": "code",
   "execution_count": 11,
   "id": "dc527156",
   "metadata": {},
   "outputs": [
    {
     "name": "stdout",
     "output_type": "stream",
     "text": [
      "{1, 2, 3}\n"
     ]
    }
   ],
   "source": [
    "s = set([1,2,3,1,2,3])\n",
    "print(s)"
   ]
  },
  {
   "cell_type": "code",
   "execution_count": 12,
   "id": "6c539e6d",
   "metadata": {},
   "outputs": [
    {
     "name": "stdout",
     "output_type": "stream",
     "text": [
      "{1, 2, 3, 5}\n"
     ]
    }
   ],
   "source": [
    "s.add(5)\n",
    "print(s)"
   ]
  },
  {
   "cell_type": "code",
   "execution_count": 13,
   "id": "0e61c344",
   "metadata": {},
   "outputs": [
    {
     "name": "stdout",
     "output_type": "stream",
     "text": [
      "{1, 2, 3}\n"
     ]
    }
   ],
   "source": [
    "s.remove(5)\n",
    "print(s)"
   ]
  },
  {
   "cell_type": "code",
   "execution_count": 14,
   "id": "2b6561b1",
   "metadata": {},
   "outputs": [
    {
     "ename": "KeyError",
     "evalue": "7",
     "output_type": "error",
     "traceback": [
      "\u001b[1;31m---------------------------------------------------------------------------\u001b[0m",
      "\u001b[1;31mKeyError\u001b[0m                                  Traceback (most recent call last)",
      "\u001b[1;32m<ipython-input-14-b5e54424d4cd>\u001b[0m in \u001b[0;36m<module>\u001b[1;34m\u001b[0m\n\u001b[1;32m----> 1\u001b[1;33m \u001b[0ms\u001b[0m\u001b[1;33m.\u001b[0m\u001b[0mremove\u001b[0m\u001b[1;33m(\u001b[0m\u001b[1;36m7\u001b[0m\u001b[1;33m)\u001b[0m\u001b[1;33m\u001b[0m\u001b[1;33m\u001b[0m\u001b[0m\n\u001b[0m\u001b[0;32m      2\u001b[0m \u001b[0mprint\u001b[0m\u001b[1;33m(\u001b[0m\u001b[0ms\u001b[0m\u001b[1;33m)\u001b[0m\u001b[1;33m\u001b[0m\u001b[1;33m\u001b[0m\u001b[0m\n",
      "\u001b[1;31mKeyError\u001b[0m: 7"
     ]
    }
   ],
   "source": [
    "s.remove(7)\n",
    "print(s)"
   ]
  },
  {
   "cell_type": "code",
   "execution_count": 15,
   "id": "cd7d1279",
   "metadata": {},
   "outputs": [
    {
     "name": "stdout",
     "output_type": "stream",
     "text": [
      "{1, 2, 3, 4, 5, 6, 7}\n"
     ]
    }
   ],
   "source": [
    "s.update([1,4,5,6,7])\n",
    "print(s)"
   ]
  },
  {
   "cell_type": "code",
   "execution_count": 16,
   "id": "4a967f48",
   "metadata": {},
   "outputs": [
    {
     "name": "stdout",
     "output_type": "stream",
     "text": [
      "{1, 2, 3, 4, 5, 6}\n"
     ]
    }
   ],
   "source": [
    "s.discard(7)\n",
    "print(s)"
   ]
  },
  {
   "cell_type": "code",
   "execution_count": 18,
   "id": "c84c6d59",
   "metadata": {},
   "outputs": [
    {
     "name": "stdout",
     "output_type": "stream",
     "text": [
      "{1, 2, 3, 4, 5, 6}\n"
     ]
    }
   ],
   "source": [
    "s.discard(9)\n",
    "print(s)"
   ]
  },
  {
   "cell_type": "code",
   "execution_count": 19,
   "id": "30faf73f",
   "metadata": {},
   "outputs": [
    {
     "name": "stdout",
     "output_type": "stream",
     "text": [
      "set()\n"
     ]
    }
   ],
   "source": [
    "s.clear()\n",
    "print(s)"
   ]
  },
  {
   "cell_type": "code",
   "execution_count": 20,
   "id": "6d1ea19c",
   "metadata": {},
   "outputs": [
    {
     "name": "stdout",
     "output_type": "stream",
     "text": [
      "{1, 2, 3, 4, 5, 6, 7}\n",
      "{1, 2, 3, 4, 5, 6, 7}\n",
      "{3, 4, 5}\n",
      "{3, 4, 5}\n",
      "{1, 2}\n",
      "{1, 2}\n"
     ]
    }
   ],
   "source": [
    "s1 = set([1,2,3,4,5])\n",
    "s2 = set([3,4,5,6,7])\n",
    "print(s1.union(s2)) #합집합\n",
    "print(s1 | s2) # 합집합\n",
    "print(s1.intersection(s2)) #교집합\n",
    "print(s1 & s2) #교집합\n",
    "print(s1.difference(s2)) #차집합\n",
    "print(s1-s2) #차집합"
   ]
  },
  {
   "cell_type": "code",
   "execution_count": 21,
   "id": "279374ba",
   "metadata": {},
   "outputs": [
    {
     "name": "stdout",
     "output_type": "stream",
     "text": [
      "Jane\n"
     ]
    }
   ],
   "source": [
    "student_info = {20190001: 'Tom', 20190002: 'Jane', \\\n",
    "                20190003: 'Mike', 20190004: 'Jessica;'}\n",
    "print(student_info[20190002])"
   ]
  },
  {
   "cell_type": "code",
   "execution_count": 22,
   "id": "b5be9a28",
   "metadata": {},
   "outputs": [
    {
     "name": "stdout",
     "output_type": "stream",
     "text": [
      "{20190001: 'Tom', 20190002: 'Kate', 20190003: 'Mike', 20190004: 'Jessica;'}\n"
     ]
    }
   ],
   "source": [
    "student_info[20190002] = 'Kate' # Kate로 변경\n",
    "print(student_info)"
   ]
  },
  {
   "cell_type": "code",
   "execution_count": 231,
   "id": "b15beb24",
   "metadata": {},
   "outputs": [
    {
     "name": "stdout",
     "output_type": "stream",
     "text": [
      "20190001\n"
     ]
    }
   ],
   "source": [
    "for k, v in student_info.items():\n",
    "    if v == 'Tom':\n",
    "        print(k)"
   ]
  },
  {
   "cell_type": "code",
   "execution_count": 233,
   "id": "e144d38e",
   "metadata": {},
   "outputs": [
    {
     "name": "stdout",
     "output_type": "stream",
     "text": [
      "{'Tom': 20190001, 'Kate': 20190002, 'Mike': 20190003, 'Jessica;': 20190004}\n"
     ]
    }
   ],
   "source": [
    "new_student_info={v:k for k,v in student_info.items()}\n",
    "print(new_student_info)"
   ]
  },
  {
   "cell_type": "code",
   "execution_count": 23,
   "id": "e3bf35d6",
   "metadata": {},
   "outputs": [
    {
     "name": "stdout",
     "output_type": "stream",
     "text": [
      "{'USA': 1, 'Korea': 82, 'China': 86, 'Malaysia': 60}\n"
     ]
    }
   ],
   "source": [
    "country_code = {'USA':1, 'Korea':82, 'China':86, 'Malaysia':60}\n",
    "print(country_code)"
   ]
  },
  {
   "cell_type": "code",
   "execution_count": 24,
   "id": "00f13bbc",
   "metadata": {},
   "outputs": [
    {
     "name": "stdout",
     "output_type": "stream",
     "text": [
      "dict_keys(['USA', 'Korea', 'China', 'Malaysia'])\n"
     ]
    }
   ],
   "source": [
    "print(country_code.keys()) #key값만 전체 뽑아줌"
   ]
  },
  {
   "cell_type": "code",
   "execution_count": 25,
   "id": "7548777b",
   "metadata": {},
   "outputs": [
    {
     "name": "stdout",
     "output_type": "stream",
     "text": [
      "{'USA': 1, 'Korea': 82, 'China': 86, 'Malaysia': 60, 'German': 49}\n"
     ]
    }
   ],
   "source": [
    "country_code['German'] = 49 #새값을 넣어줌(있는경우에는 엎어쓰기(갱신))\n",
    "print(country_code)"
   ]
  },
  {
   "cell_type": "code",
   "execution_count": 234,
   "id": "a42326e6",
   "metadata": {},
   "outputs": [
    {
     "name": "stdout",
     "output_type": "stream",
     "text": [
      "{'USA': 1, 'Korea': 82, 'China': 86, 'Malaysia': 60, 'German': 48}\n"
     ]
    }
   ],
   "source": [
    "country_code['German'] = 48 #새값을 넣어줌(있는경우에는 엎어쓰기(갱신))\n",
    "print(country_code)"
   ]
  },
  {
   "cell_type": "code",
   "execution_count": 26,
   "id": "f232b3e5",
   "metadata": {},
   "outputs": [
    {
     "name": "stdout",
     "output_type": "stream",
     "text": [
      "dict_values([1, 82, 86, 60, 49])\n"
     ]
    }
   ],
   "source": [
    "print(country_code.values()) #value값만 전체 뽑아줌"
   ]
  },
  {
   "cell_type": "code",
   "execution_count": 27,
   "id": "f2013404",
   "metadata": {},
   "outputs": [
    {
     "name": "stdout",
     "output_type": "stream",
     "text": [
      "dict_items([('USA', 1), ('Korea', 82), ('China', 86), ('Malaysia', 60), ('German', 49)])\n"
     ]
    }
   ],
   "source": [
    "print(country_code.items()) #key, value값 전체를 튜플형태로 묶어서 뽑아줌"
   ]
  },
  {
   "cell_type": "code",
   "execution_count": 28,
   "id": "e9ad654f",
   "metadata": {},
   "outputs": [
    {
     "name": "stdout",
     "output_type": "stream",
     "text": [
      "Key:  USA\n",
      "value:  1\n",
      "Key:  Korea\n",
      "value:  82\n",
      "Key:  China\n",
      "value:  86\n",
      "Key:  Malaysia\n",
      "value:  60\n",
      "Key:  German\n",
      "value:  49\n"
     ]
    }
   ],
   "source": [
    "for k, v in country_code.items():  # key와 value를 한개씩 다 빼낼수 있음\n",
    "    print(\"Key: \", k)\n",
    "    print(\"value: \", v)"
   ]
  },
  {
   "cell_type": "code",
   "execution_count": 29,
   "id": "b5ee9bc8",
   "metadata": {},
   "outputs": [
    {
     "name": "stdout",
     "output_type": "stream",
     "text": [
      "True\n"
     ]
    }
   ],
   "source": [
    "print('Korea' in country_code.keys()) #korea가 country code의 key값으로 있느냐"
   ]
  },
  {
   "cell_type": "code",
   "execution_count": 30,
   "id": "5f05eb16",
   "metadata": {},
   "outputs": [
    {
     "name": "stdout",
     "output_type": "stream",
     "text": [
      "False\n"
     ]
    }
   ],
   "source": [
    "print(85 in country_code.values()) #85가 country code의 value값으로 있느냐"
   ]
  },
  {
   "cell_type": "code",
   "execution_count": 32,
   "id": "f648342a",
   "metadata": {},
   "outputs": [],
   "source": [
    "from collections import deque"
   ]
  },
  {
   "cell_type": "code",
   "execution_count": 34,
   "id": "c111b4e0",
   "metadata": {},
   "outputs": [
    {
     "name": "stdout",
     "output_type": "stream",
     "text": [
      "deque([0, 1, 2, 3, 4])\n"
     ]
    }
   ],
   "source": [
    "deque_list = deque()\n",
    "for i in range(5):\n",
    "    deque_list.append(i)\n",
    "    \n",
    "print(deque_list)"
   ]
  },
  {
   "cell_type": "code",
   "execution_count": 35,
   "id": "7f0e05b2",
   "metadata": {},
   "outputs": [
    {
     "name": "stdout",
     "output_type": "stream",
     "text": [
      "4\n",
      "3\n",
      "deque([0, 1, 2])\n"
     ]
    }
   ],
   "source": [
    "print(deque_list.pop()) # 뒤에서 인자 1개 빼기\n",
    "print(deque_list.pop())\n",
    "print(deque_list)"
   ]
  },
  {
   "cell_type": "code",
   "execution_count": 36,
   "id": "6308ef1f",
   "metadata": {},
   "outputs": [
    {
     "name": "stdout",
     "output_type": "stream",
     "text": [
      "deque([6, 5, 0, 1, 2])\n"
     ]
    }
   ],
   "source": [
    "deque_list.appendleft(5) #앞에 붙이기\n",
    "deque_list.appendleft(6)\n",
    "print(deque_list)\n"
   ]
  },
  {
   "cell_type": "code",
   "execution_count": 37,
   "id": "89c6db9d",
   "metadata": {
    "scrolled": true
   },
   "outputs": [
    {
     "name": "stdout",
     "output_type": "stream",
     "text": [
      "6\n",
      "5\n",
      "deque([0, 1, 2])\n"
     ]
    }
   ],
   "source": [
    "print(deque_list.popleft()) #앞에서 빼기\n",
    "print(deque_list.popleft())\n",
    "print(deque_list)"
   ]
  },
  {
   "cell_type": "code",
   "execution_count": 38,
   "id": "0fd3c59b",
   "metadata": {},
   "outputs": [
    {
     "name": "stdout",
     "output_type": "stream",
     "text": [
      "deque([0, 1, 2, 3, 4])\n"
     ]
    }
   ],
   "source": [
    "deque_list.append(3)\n",
    "deque_list.append(4)\n",
    "print(deque_list)"
   ]
  },
  {
   "cell_type": "code",
   "execution_count": 39,
   "id": "df232ee6",
   "metadata": {},
   "outputs": [
    {
     "name": "stdout",
     "output_type": "stream",
     "text": [
      "deque([3, 4, 0, 1, 2])\n"
     ]
    }
   ],
   "source": [
    "deque_list.rotate(2) # 오른쪽으로 두칸 돌림\n",
    "print(deque_list)"
   ]
  },
  {
   "cell_type": "code",
   "execution_count": 40,
   "id": "8e1f871c",
   "metadata": {},
   "outputs": [
    {
     "name": "stdout",
     "output_type": "stream",
     "text": [
      "deque([0, 1, 2, 3, 4])\n"
     ]
    }
   ],
   "source": [
    "deque_list.rotate(-2) # 왼쪽으로 두칸 돌림\n",
    "print(deque_list)"
   ]
  },
  {
   "cell_type": "code",
   "execution_count": 41,
   "id": "8d5bcca6",
   "metadata": {},
   "outputs": [
    {
     "name": "stdout",
     "output_type": "stream",
     "text": [
      "deque([0, 1, 2, 3, 4, 5, 6, 7])\n"
     ]
    }
   ],
   "source": [
    "deque_list.extend([5,6,7])  #여러 인자를 한꺼번에 추가하기\n",
    "print(deque_list)"
   ]
  },
  {
   "cell_type": "code",
   "execution_count": 42,
   "id": "7a30c01c",
   "metadata": {},
   "outputs": [
    {
     "name": "stdout",
     "output_type": "stream",
     "text": [
      "deque([10, 9, 0, 1, 2, 3, 4, 5, 6, 7])\n"
     ]
    }
   ],
   "source": [
    "deque_list.extendleft([9,10])  #앞쪽에 여러 인자를 한꺼번에 추가하기\n",
    "print(deque_list)"
   ]
  },
  {
   "cell_type": "code",
   "execution_count": 43,
   "id": "5147be55",
   "metadata": {},
   "outputs": [],
   "source": [
    "from collections import OrderedDict"
   ]
  },
  {
   "cell_type": "code",
   "execution_count": 58,
   "id": "4a443d1a",
   "metadata": {},
   "outputs": [
    {
     "name": "stdout",
     "output_type": "stream",
     "text": [
      "{'x': 100, 'y': 200, 'z': 300, 'a': 400}\n"
     ]
    }
   ],
   "source": [
    "d = dict()\n",
    "d['x'] = 100\n",
    "d['y'] = 200\n",
    "d['z'] = 300\n",
    "d['a'] = 400\n",
    "print(d)"
   ]
  },
  {
   "cell_type": "code",
   "execution_count": 45,
   "id": "8899b625",
   "metadata": {},
   "outputs": [],
   "source": [
    "def get_key(x):  #아이템 값을 가져와서\n",
    "    return x[0] #0번째인덱스(키값)을 return해라"
   ]
  },
  {
   "cell_type": "code",
   "execution_count": 46,
   "id": "976b48ef",
   "metadata": {},
   "outputs": [
    {
     "name": "stdout",
     "output_type": "stream",
     "text": [
      "OrderedDict([('a', 100), ('x', 100), ('y', 200), ('z', 100)])\n"
     ]
    }
   ],
   "source": [
    "od = OrderedDict(sorted(d.items(), key=get_key)) # sort를 하는데 튜플을 getkey에 넣어서 키값만 가져온다음에 그걸로 sort해라\n",
    "print(od)\n"
   ]
  },
  {
   "cell_type": "code",
   "execution_count": 47,
   "id": "a935b0b0",
   "metadata": {},
   "outputs": [],
   "source": [
    "def f(x,y):\n",
    "    return x+y\n"
   ]
  },
  {
   "cell_type": "code",
   "execution_count": 48,
   "id": "ce62fb8d",
   "metadata": {},
   "outputs": [
    {
     "name": "stdout",
     "output_type": "stream",
     "text": [
      "5\n"
     ]
    }
   ],
   "source": [
    "print(f(1,4))"
   ]
  },
  {
   "cell_type": "code",
   "execution_count": 49,
   "id": "73e46c37",
   "metadata": {},
   "outputs": [
    {
     "name": "stdout",
     "output_type": "stream",
     "text": [
      "5\n"
     ]
    }
   ],
   "source": [
    "f = lambda x,y : x+y\n",
    "print(f(1,4))"
   ]
  },
  {
   "cell_type": "code",
   "execution_count": 51,
   "id": "dc420372",
   "metadata": {},
   "outputs": [
    {
     "name": "stdout",
     "output_type": "stream",
     "text": [
      "5\n"
     ]
    }
   ],
   "source": [
    "print((lambda x,y : x+y)(1,4))\n"
   ]
  },
  {
   "cell_type": "code",
   "execution_count": 52,
   "id": "f1fcae68",
   "metadata": {},
   "outputs": [
    {
     "name": "stdout",
     "output_type": "stream",
     "text": [
      "3\n"
     ]
    }
   ],
   "source": [
    "f = lambda n,m :n if n%2==0 else m #두가지 수 중에 짝수면 앞에, 홀수면 뒤에\n",
    "print(f(1,3))"
   ]
  },
  {
   "cell_type": "code",
   "execution_count": 53,
   "id": "50b652e4",
   "metadata": {},
   "outputs": [
    {
     "name": "stdout",
     "output_type": "stream",
     "text": [
      "2\n"
     ]
    }
   ],
   "source": [
    "print(f(2,3))"
   ]
  },
  {
   "cell_type": "code",
   "execution_count": 54,
   "id": "d612ef08",
   "metadata": {},
   "outputs": [],
   "source": [
    "def makeFunc(n):    #a를 n으로 나누었을때 나머지가 1인지 확인하는 함수\n",
    "    return lambda a: a%n == 1"
   ]
  },
  {
   "cell_type": "code",
   "execution_count": 55,
   "id": "dd4ed745",
   "metadata": {},
   "outputs": [
    {
     "name": "stdout",
     "output_type": "stream",
     "text": [
      "True\n"
     ]
    }
   ],
   "source": [
    "isOdd = makeFunc(2) #n값에 2\n",
    "print(isOdd(3)) #a값에 3"
   ]
  },
  {
   "cell_type": "code",
   "execution_count": 56,
   "id": "cc7fc07f",
   "metadata": {},
   "outputs": [
    {
     "name": "stdout",
     "output_type": "stream",
     "text": [
      "OrderedDict([('a', 100), ('x', 100), ('y', 200), ('z', 100)])\n"
     ]
    }
   ],
   "source": [
    "od = OrderedDict(sorted(d.items(),key=lambda x:x[0]))\n",
    "print(od)"
   ]
  },
  {
   "cell_type": "code",
   "execution_count": 59,
   "id": "0a760e15",
   "metadata": {},
   "outputs": [
    {
     "name": "stdout",
     "output_type": "stream",
     "text": [
      "OrderedDict([('x', 100), ('y', 200), ('z', 300), ('a', 400)])\n"
     ]
    }
   ],
   "source": [
    "od_values = OrderedDict(sorted(d.items(), key=lambda x:x[1]))\n",
    "print(od_values)"
   ]
  },
  {
   "cell_type": "code",
   "execution_count": 65,
   "id": "1487cc8a",
   "metadata": {},
   "outputs": [
    {
     "name": "stdout",
     "output_type": "stream",
     "text": [
      "OrderedDict([('a', 400), ('z', 300), ('y', 200), ('x', 100)])\n"
     ]
    }
   ],
   "source": [
    "od_values = OrderedDict(sorted(d.items(), key=lambda x:x[1], reverse=True))\n",
    "print(od_values)"
   ]
  },
  {
   "cell_type": "code",
   "execution_count": 66,
   "id": "8ff7da6a",
   "metadata": {},
   "outputs": [
    {
     "name": "stdout",
     "output_type": "stream",
     "text": [
      "I love you\n"
     ]
    }
   ],
   "source": [
    "sentence = 'I love you'\n",
    "reverse_sentence = ''\n",
    "for i in sentence:\n",
    "    reverse_sentence = reverse_sentence +i\n",
    "print(reverse_sentence)\n"
   ]
  },
  {
   "cell_type": "code",
   "execution_count": 67,
   "id": "5f6cee9e",
   "metadata": {},
   "outputs": [
    {
     "name": "stdout",
     "output_type": "stream",
     "text": [
      "uoy evol I\n"
     ]
    }
   ],
   "source": [
    "sentence = 'I love you'\n",
    "reverse_sentence = ''\n",
    "for i in sentence:\n",
    "    reverse_sentence = i+reverse_sentence\n",
    "print(reverse_sentence)\n"
   ]
  },
  {
   "cell_type": "code",
   "execution_count": 68,
   "id": "0da0e485",
   "metadata": {},
   "outputs": [],
   "source": [
    "s = [('yellow',1), ('blue',2),('yellow',3), ('blue',4),('red',1)]"
   ]
  },
  {
   "cell_type": "code",
   "execution_count": 69,
   "id": "6c557fd5",
   "metadata": {},
   "outputs": [
    {
     "ename": "KeyError",
     "evalue": "'yellow'",
     "output_type": "error",
     "traceback": [
      "\u001b[1;31m---------------------------------------------------------------------------\u001b[0m",
      "\u001b[1;31mKeyError\u001b[0m                                  Traceback (most recent call last)",
      "\u001b[1;32m<ipython-input-69-2edc41bc902f>\u001b[0m in \u001b[0;36m<module>\u001b[1;34m\u001b[0m\n\u001b[0;32m      1\u001b[0m \u001b[0md\u001b[0m \u001b[1;33m=\u001b[0m \u001b[0mdict\u001b[0m\u001b[1;33m(\u001b[0m\u001b[1;33m)\u001b[0m\u001b[1;33m\u001b[0m\u001b[1;33m\u001b[0m\u001b[0m\n\u001b[0;32m      2\u001b[0m \u001b[1;32mfor\u001b[0m \u001b[0mk\u001b[0m\u001b[1;33m,\u001b[0m\u001b[0mv\u001b[0m \u001b[1;32min\u001b[0m \u001b[0ms\u001b[0m\u001b[1;33m:\u001b[0m\u001b[1;33m\u001b[0m\u001b[1;33m\u001b[0m\u001b[0m\n\u001b[1;32m----> 3\u001b[1;33m     \u001b[0md\u001b[0m\u001b[1;33m[\u001b[0m\u001b[0mk\u001b[0m\u001b[1;33m]\u001b[0m\u001b[1;33m.\u001b[0m\u001b[0mappend\u001b[0m\u001b[1;33m(\u001b[0m\u001b[0mv\u001b[0m\u001b[1;33m)\u001b[0m\u001b[1;33m\u001b[0m\u001b[1;33m\u001b[0m\u001b[0m\n\u001b[0m",
      "\u001b[1;31mKeyError\u001b[0m: 'yellow'"
     ]
    }
   ],
   "source": [
    "d = dict()\n",
    "for k,v in s:\n",
    "    d[k].append(v)"
   ]
  },
  {
   "cell_type": "code",
   "execution_count": 70,
   "id": "d0e9d532",
   "metadata": {},
   "outputs": [
    {
     "name": "stdout",
     "output_type": "stream",
     "text": [
      "{'yellow': [1, 3], 'blue': [2, 4], 'red': [1]}\n"
     ]
    }
   ],
   "source": [
    "d = dict()\n",
    "for k,v in s:\n",
    "    try:\n",
    "        d[k].append(v)\n",
    "    except KeyError:\n",
    "        d[k] = list()\n",
    "        d[k].append(v)\n",
    "print(d)"
   ]
  },
  {
   "cell_type": "code",
   "execution_count": 71,
   "id": "902d58d1",
   "metadata": {},
   "outputs": [],
   "source": [
    "from collections import defaultdict"
   ]
  },
  {
   "cell_type": "code",
   "execution_count": 73,
   "id": "ed4b9eb4",
   "metadata": {},
   "outputs": [
    {
     "name": "stdout",
     "output_type": "stream",
     "text": [
      "dict_items([('yellow', [1, 3]), ('blue', [2, 4]), ('red', [1])])\n"
     ]
    }
   ],
   "source": [
    "d2 = defaultdict(list) #a = list()#새로운 키가 추가됐을때, value값을 리스트로 만들어라. (항목이 없을때는 기본적으로 list를 생성하라)\n",
    "for k,v in s:\n",
    "    d2[k].append(v)\n",
    "print(d2.items())"
   ]
  },
  {
   "cell_type": "code",
   "execution_count": 75,
   "id": "60a5ebf0",
   "metadata": {},
   "outputs": [
    {
     "ename": "TypeError",
     "evalue": "first argument must be callable or None",
     "output_type": "error",
     "traceback": [
      "\u001b[1;31m---------------------------------------------------------------------------\u001b[0m",
      "\u001b[1;31mTypeError\u001b[0m                                 Traceback (most recent call last)",
      "\u001b[1;32m<ipython-input-75-56715ffdb49d>\u001b[0m in \u001b[0;36m<module>\u001b[1;34m\u001b[0m\n\u001b[1;32m----> 1\u001b[1;33m \u001b[0md3\u001b[0m \u001b[1;33m=\u001b[0m \u001b[0mdefaultdict\u001b[0m\u001b[1;33m(\u001b[0m\u001b[1;36m100\u001b[0m\u001b[1;33m)\u001b[0m\u001b[1;33m\u001b[0m\u001b[1;33m\u001b[0m\u001b[0m\n\u001b[0m\u001b[0;32m      2\u001b[0m \u001b[0mprint\u001b[0m\u001b[1;33m(\u001b[0m\u001b[0md\u001b[0m\u001b[1;33m[\u001b[0m\u001b[1;34m'first'\u001b[0m\u001b[1;33m]\u001b[0m\u001b[1;33m)\u001b[0m\u001b[1;33m\u001b[0m\u001b[1;33m\u001b[0m\u001b[0m\n",
      "\u001b[1;31mTypeError\u001b[0m: first argument must be callable or None"
     ]
    }
   ],
   "source": [
    "d3 = defaultdict(100)\n",
    "print(d['first'])"
   ]
  },
  {
   "cell_type": "code",
   "execution_count": 76,
   "id": "76066f40",
   "metadata": {},
   "outputs": [
    {
     "name": "stdout",
     "output_type": "stream",
     "text": [
      "100\n"
     ]
    }
   ],
   "source": [
    "d3 = defaultdict(lambda:100)\n",
    "print(d3['first'])"
   ]
  },
  {
   "cell_type": "code",
   "execution_count": 77,
   "id": "425db97c",
   "metadata": {},
   "outputs": [],
   "source": [
    "from collections import Counter"
   ]
  },
  {
   "cell_type": "code",
   "execution_count": 78,
   "id": "33d499bf",
   "metadata": {},
   "outputs": [
    {
     "name": "stdout",
     "output_type": "stream",
     "text": [
      "Counter({'s': 2, 'i': 2, 't': 2, 'c': 1, 'e': 1, 'n': 1})\n"
     ]
    }
   ],
   "source": [
    "c = Counter('scientist')\n",
    "print(c)"
   ]
  },
  {
   "cell_type": "code",
   "execution_count": 79,
   "id": "43a844cb",
   "metadata": {},
   "outputs": [
    {
     "name": "stdout",
     "output_type": "stream",
     "text": [
      "Counter({'red': 4, 'blue': 2})\n"
     ]
    }
   ],
   "source": [
    "c = Counter({'red':4, 'blue':2}) #딕셔너리개체도 가능\n",
    "print(c)"
   ]
  },
  {
   "cell_type": "code",
   "execution_count": 80,
   "id": "1ad24d0e",
   "metadata": {},
   "outputs": [
    {
     "data": {
      "text/plain": [
       "<itertools.chain at 0x23937685b80>"
      ]
     },
     "execution_count": 80,
     "metadata": {},
     "output_type": "execute_result"
    }
   ],
   "source": [
    "c.elements()"
   ]
  },
  {
   "cell_type": "code",
   "execution_count": 81,
   "id": "6cf931f4",
   "metadata": {},
   "outputs": [
    {
     "name": "stdout",
     "output_type": "stream",
     "text": [
      "['red', 'red', 'red', 'red', 'blue', 'blue']\n"
     ]
    }
   ],
   "source": [
    "print(list(c.elements())) # 요소 하나하나를 풀고 싶을때"
   ]
  },
  {
   "cell_type": "code",
   "execution_count": 82,
   "id": "4fc7c74d",
   "metadata": {},
   "outputs": [
    {
     "name": "stdout",
     "output_type": "stream",
     "text": [
      "Counter({'dogs': 6, 'cats': 4})\n"
     ]
    }
   ],
   "source": [
    "c = Counter(cats = 4, dogs =6)\n",
    "print(c)"
   ]
  },
  {
   "cell_type": "code",
   "execution_count": 83,
   "id": "82fa3365",
   "metadata": {},
   "outputs": [],
   "source": [
    "from collections import namedtuple"
   ]
  },
  {
   "cell_type": "code",
   "execution_count": 84,
   "id": "24b1a4d0",
   "metadata": {},
   "outputs": [
    {
     "name": "stdout",
     "output_type": "stream",
     "text": [
      "my_point(x=11, y=22)\n"
     ]
    }
   ],
   "source": [
    "Point = namedtuple('my_point', ['x','y'])\n",
    "p = Point(11,22)\n",
    "print(p)"
   ]
  },
  {
   "cell_type": "code",
   "execution_count": 85,
   "id": "6f7c0a6a",
   "metadata": {},
   "outputs": [
    {
     "name": "stdout",
     "output_type": "stream",
     "text": [
      "11 22\n"
     ]
    }
   ],
   "source": [
    "print(p.x, p.y)"
   ]
  },
  {
   "cell_type": "code",
   "execution_count": 86,
   "id": "ec733dca",
   "metadata": {},
   "outputs": [
    {
     "name": "stdout",
     "output_type": "stream",
     "text": [
      "11 22\n"
     ]
    }
   ],
   "source": [
    "print(p[0], p[1])"
   ]
  },
  {
   "cell_type": "code",
   "execution_count": 87,
   "id": "95f4c6e5",
   "metadata": {},
   "outputs": [],
   "source": [
    "text = \"\"\"A press release is the quickest and easiest way to get free publicity. If\n",
    "well written, a press release can result in multiple published articles about your \n",
    "firm and its products. And that can mean new prospects contacting you \n",
    "asking you to sell to them. ….\"\"\".lower().split()"
   ]
  },
  {
   "cell_type": "code",
   "execution_count": 88,
   "id": "e7e51cdf",
   "metadata": {},
   "outputs": [
    {
     "name": "stdout",
     "output_type": "stream",
     "text": [
      "['a', 'press', 'release', 'is', 'the', 'quickest', 'and', 'easiest', 'way', 'to', 'get', 'free', 'publicity.', 'if', 'well', 'written,', 'a', 'press', 'release', 'can', 'result', 'in', 'multiple', 'published', 'articles', 'about', 'your', 'firm', 'and', 'its', 'products.', 'and', 'that', 'can', 'mean', 'new', 'prospects', 'contacting', 'you', 'asking', 'you', 'to', 'sell', 'to', 'them.', '….']\n"
     ]
    }
   ],
   "source": [
    "print(text)"
   ]
  },
  {
   "cell_type": "code",
   "execution_count": 89,
   "id": "59214ee0",
   "metadata": {},
   "outputs": [],
   "source": [
    "word_count = defaultdict(lambda:0)"
   ]
  },
  {
   "cell_type": "code",
   "execution_count": 90,
   "id": "6cb673a8",
   "metadata": {},
   "outputs": [],
   "source": [
    "for word in text:\n",
    "    word_count[word] += 1"
   ]
  },
  {
   "cell_type": "code",
   "execution_count": 91,
   "id": "d9d9632e",
   "metadata": {},
   "outputs": [
    {
     "name": "stdout",
     "output_type": "stream",
     "text": [
      "defaultdict(<function <lambda> at 0x0000023937775700>, {'a': 2, 'press': 2, 'release': 2, 'is': 1, 'the': 1, 'quickest': 1, 'and': 3, 'easiest': 1, 'way': 1, 'to': 3, 'get': 1, 'free': 1, 'publicity.': 1, 'if': 1, 'well': 1, 'written,': 1, 'can': 2, 'result': 1, 'in': 1, 'multiple': 1, 'published': 1, 'articles': 1, 'about': 1, 'your': 1, 'firm': 1, 'its': 1, 'products.': 1, 'that': 1, 'mean': 1, 'new': 1, 'prospects': 1, 'contacting': 1, 'you': 2, 'asking': 1, 'sell': 1, 'them.': 1, '….': 1})\n"
     ]
    }
   ],
   "source": [
    "print(word_count)"
   ]
  },
  {
   "cell_type": "code",
   "execution_count": 97,
   "id": "4988fa19",
   "metadata": {},
   "outputs": [
    {
     "name": "stdout",
     "output_type": "stream",
     "text": [
      "OrderedDict([('and', 3), ('to', 3), ('a', 2), ('press', 2), ('release', 2), ('can', 2), ('you', 2), ('is', 1), ('the', 1), ('quickest', 1), ('easiest', 1), ('way', 1), ('get', 1), ('free', 1), ('publicity.', 1), ('if', 1), ('well', 1), ('written,', 1), ('result', 1), ('in', 1), ('multiple', 1), ('published', 1), ('articles', 1), ('about', 1), ('your', 1), ('firm', 1), ('its', 1), ('products.', 1), ('that', 1), ('mean', 1), ('new', 1), ('prospects', 1), ('contacting', 1), ('asking', 1), ('sell', 1), ('them.', 1), ('….', 1)])\n"
     ]
    }
   ],
   "source": [
    "word_count_sorted = OrderedDict(sorted(word_count.items(), key = lambda x:x[1], reverse=True))\n",
    "print(word_count_sorted)"
   ]
  },
  {
   "cell_type": "code",
   "execution_count": 99,
   "id": "ba7b0dd0",
   "metadata": {},
   "outputs": [
    {
     "name": "stdout",
     "output_type": "stream",
     "text": [
      "and 3\n",
      "to 3\n",
      "a 2\n",
      "press 2\n",
      "release 2\n",
      "can 2\n",
      "you 2\n",
      "is 1\n",
      "the 1\n",
      "quickest 1\n",
      "easiest 1\n",
      "way 1\n",
      "get 1\n",
      "free 1\n",
      "publicity. 1\n",
      "if 1\n",
      "well 1\n",
      "written, 1\n",
      "result 1\n",
      "in 1\n",
      "multiple 1\n",
      "published 1\n",
      "articles 1\n",
      "about 1\n",
      "your 1\n",
      "firm 1\n",
      "its 1\n",
      "products. 1\n",
      "that 1\n",
      "mean 1\n",
      "new 1\n",
      "prospects 1\n",
      "contacting 1\n",
      "asking 1\n",
      "sell 1\n",
      "them. 1\n",
      "…. 1\n"
     ]
    }
   ],
   "source": [
    "for k, v in OrderedDict(sorted(word_count.items(), key=lambda t:t[1], reverse=True)).items():\n",
    "    print(k,v)"
   ]
  },
  {
   "cell_type": "code",
   "execution_count": 100,
   "id": "e2325526",
   "metadata": {},
   "outputs": [
    {
     "name": "stdout",
     "output_type": "stream",
     "text": [
      "[0, 1, 2, 3, 4, 5, 6, 7, 8, 9]\n"
     ]
    }
   ],
   "source": [
    "result =[]\n",
    "for i in range(10):\n",
    "    result.append(i)\n",
    "print(result)"
   ]
  },
  {
   "cell_type": "code",
   "execution_count": 101,
   "id": "41439cf0",
   "metadata": {},
   "outputs": [
    {
     "name": "stdout",
     "output_type": "stream",
     "text": [
      "[0, 1, 2, 3, 4, 5, 6, 7, 8, 9]\n"
     ]
    }
   ],
   "source": [
    "result2 = [i for i in range(10)]\n",
    "print(result2)"
   ]
  },
  {
   "cell_type": "code",
   "execution_count": 102,
   "id": "4f392b0b",
   "metadata": {},
   "outputs": [
    {
     "name": "stdout",
     "output_type": "stream",
     "text": [
      "[0, 2, 4, 6, 8]\n"
     ]
    }
   ],
   "source": [
    "result = []\n",
    "for i in range(10):\n",
    "    if i%2==0:\n",
    "        result.append(i)\n",
    "print(result)"
   ]
  },
  {
   "cell_type": "code",
   "execution_count": 103,
   "id": "80d65367",
   "metadata": {},
   "outputs": [
    {
     "name": "stdout",
     "output_type": "stream",
     "text": [
      "[0, 2, 4, 6, 8]\n"
     ]
    }
   ],
   "source": [
    "result2 = [i for i in range(10) if i % 2 == 0]\n",
    "print(result2)"
   ]
  },
  {
   "cell_type": "code",
   "execution_count": 104,
   "id": "82e12393",
   "metadata": {},
   "outputs": [
    {
     "name": "stdout",
     "output_type": "stream",
     "text": [
      "[0, 99, 2, 99, 4, 99, 6, 99, 8, 99]\n"
     ]
    }
   ],
   "source": [
    "result =[]\n",
    "for i in range(10):\n",
    "    if i % 2 == 0:\n",
    "        result.append(i)\n",
    "    else:\n",
    "        result.append(99)\n",
    "print(result)"
   ]
  },
  {
   "cell_type": "code",
   "execution_count": 106,
   "id": "9e241b59",
   "metadata": {},
   "outputs": [
    {
     "name": "stdout",
     "output_type": "stream",
     "text": [
      "[0, 99, 2, 99, 4, 99, 6, 99, 8, 99]\n"
     ]
    }
   ],
   "source": [
    "result2 = [i if i % 2 == 0 else 99 for i in range(10)]\n",
    "print(result2)"
   ]
  },
  {
   "cell_type": "code",
   "execution_count": 107,
   "id": "ecf4f840",
   "metadata": {},
   "outputs": [
    {
     "name": "stdout",
     "output_type": "stream",
     "text": [
      "['Hw', 'Ho', 'Hr', 'Hl', 'Hd', 'ew', 'eo', 'er', 'el', 'ed', 'lw', 'lo', 'lr', 'll', 'ld', 'lw', 'lo', 'lr', 'll', 'ld', 'ow', 'oo', 'or', 'ol', 'od']\n"
     ]
    }
   ],
   "source": [
    "result =[]\n",
    "word1 = 'Hello'\n",
    "word2 = 'world'\n",
    "for i in word1:\n",
    "    for j in word2:\n",
    "        result.append(i+j)\n",
    "print(result)"
   ]
  },
  {
   "cell_type": "code",
   "execution_count": 108,
   "id": "f4783c73",
   "metadata": {},
   "outputs": [
    {
     "name": "stdout",
     "output_type": "stream",
     "text": [
      "['Hw', 'Ho', 'Hr', 'Hl', 'Hd', 'ew', 'eo', 'er', 'el', 'ed', 'lw', 'lo', 'lr', 'll', 'ld', 'lw', 'lo', 'lr', 'll', 'ld', 'ow', 'oo', 'or', 'ol', 'od']\n"
     ]
    }
   ],
   "source": [
    "result2=[]\n",
    "word1 = 'Hello'\n",
    "word2 = 'world'\n",
    "result2 = [i+j for i in word1 for j in word2]\n",
    "print(result2)"
   ]
  },
  {
   "cell_type": "code",
   "execution_count": 112,
   "id": "31e14ace",
   "metadata": {},
   "outputs": [
    {
     "name": "stdout",
     "output_type": "stream",
     "text": [
      "['AB', 'AC', 'BA', 'BC', 'CA', 'CB']\n"
     ]
    }
   ],
   "source": [
    "case1 = ['A','B','C']\n",
    "case2 = ['A','B','C']\n",
    "result = []\n",
    "result = [i+j for i in case1 for j in case2 if i!=j]\n",
    "print(result)"
   ]
  },
  {
   "cell_type": "code",
   "execution_count": 118,
   "id": "677ec60d",
   "metadata": {},
   "outputs": [
    {
     "name": "stdout",
     "output_type": "stream",
     "text": [
      "[['AD', 'BD', 'CD'], ['AE', 'BE', 'CE'], ['AF', 'BF', 'CF']]\n"
     ]
    }
   ],
   "source": [
    "case1 = ['A','B','C']\n",
    "case2 = ['D','E','F']\n",
    "result = []\n",
    "result = [[i+j for i in case1] for j in case2]\n",
    "print(result)"
   ]
  },
  {
   "cell_type": "code",
   "execution_count": 121,
   "id": "c67410eb",
   "metadata": {},
   "outputs": [
    {
     "name": "stdout",
     "output_type": "stream",
     "text": [
      "[['AD', 'BD', 'CD'], ['AE', 'BE', 'CE'], ['AF', 'BF', 'CF']]\n"
     ]
    }
   ],
   "source": [
    "result=[]\n",
    "case1 = ['A','B','C']\n",
    "case2 = ['D','E','F']\n",
    "for j in case2:\n",
    "    temp = []\n",
    "    for i in case1:\n",
    "        temp.append(i+j)\n",
    "    result.append(temp)\n",
    "print(result)"
   ]
  },
  {
   "cell_type": "code",
   "execution_count": 123,
   "id": "3e700062",
   "metadata": {},
   "outputs": [
    {
     "name": "stdout",
     "output_type": "stream",
     "text": [
      "0 tic\n",
      "1 tac\n",
      "2 toe\n"
     ]
    }
   ],
   "source": [
    "for i, v in enumerate(['tic', 'tac', 'toe']):\n",
    "    print(i,v)"
   ]
  },
  {
   "cell_type": "code",
   "execution_count": 124,
   "id": "465cd33e",
   "metadata": {},
   "outputs": [
    {
     "name": "stdout",
     "output_type": "stream",
     "text": [
      "0\n",
      "1\n",
      "2\n"
     ]
    }
   ],
   "source": [
    "for i, _ in enumerate(['tic', 'tac', 'toe']):\n",
    "    print(i)"
   ]
  },
  {
   "cell_type": "code",
   "execution_count": 127,
   "id": "5df064f6",
   "metadata": {},
   "outputs": [
    {
     "name": "stdout",
     "output_type": "stream",
     "text": [
      "0\n",
      "1\n",
      "2\n"
     ]
    }
   ],
   "source": [
    "for i in range(len(['tic', 'tac', 'toe'])):\n",
    "    print(i)"
   ]
  },
  {
   "cell_type": "code",
   "execution_count": 128,
   "id": "9f3bd317",
   "metadata": {},
   "outputs": [
    {
     "name": "stdout",
     "output_type": "stream",
     "text": [
      "a1 b1\n",
      "a2 b2\n",
      "a3 b3\n"
     ]
    }
   ],
   "source": [
    "alist = ['a1', 'a2', 'a3']\n",
    "blist = ['b1', 'b2', 'b3', 'b4']\n",
    "for a, b in zip(alist, blist):\n",
    "    print(a,b)"
   ]
  },
  {
   "cell_type": "code",
   "execution_count": 129,
   "id": "f21715b3",
   "metadata": {},
   "outputs": [
    {
     "name": "stdout",
     "output_type": "stream",
     "text": [
      "(1, 10, 100) (2, 20, 200) (3, 30, 300)\n"
     ]
    }
   ],
   "source": [
    "a,b,c = zip((1,2,3),(10,20,30),(100,200,300))\n",
    "print(a,b,c)"
   ]
  },
  {
   "cell_type": "code",
   "execution_count": 130,
   "id": "0dd82c6a",
   "metadata": {},
   "outputs": [
    {
     "name": "stdout",
     "output_type": "stream",
     "text": [
      "(1, 10, 100) (2, 20, 200) (3, 30, 300)\n"
     ]
    }
   ],
   "source": [
    "a,b,c = zip([1,2,3],[10,20,30],[100,200,300])\n",
    "print(a,b,c)"
   ]
  },
  {
   "cell_type": "code",
   "execution_count": 131,
   "id": "0b51f0f0",
   "metadata": {},
   "outputs": [
    {
     "name": "stdout",
     "output_type": "stream",
     "text": [
      "[111, 222, 333]\n"
     ]
    }
   ],
   "source": [
    "result = [sum(x) for x in zip((1,2,3),(10,20,30),(100,200,300))]\n",
    "print(result)"
   ]
  },
  {
   "cell_type": "code",
   "execution_count": 135,
   "id": "fd61d97a",
   "metadata": {},
   "outputs": [
    {
     "name": "stdout",
     "output_type": "stream",
     "text": [
      "0 a1 b1\n",
      "1 a2 b2\n",
      "2 a3 b3\n"
     ]
    }
   ],
   "source": [
    "alist = ['a1', 'a2', 'a3']\n",
    "blist = ['b1', 'b2', 'b3', 'b4']\n",
    "for i, (a, b) in enumerate(zip(alist, blist)):\n",
    "    print(i,a,b)"
   ]
  },
  {
   "cell_type": "code",
   "execution_count": 140,
   "id": "9c015a89",
   "metadata": {},
   "outputs": [],
   "source": [
    "def vec_add(v1, v2):\n",
    "    return [i+j for i, j in zip(v1,v2)]"
   ]
  },
  {
   "cell_type": "code",
   "execution_count": 141,
   "id": "0d9b717f",
   "metadata": {},
   "outputs": [
    {
     "name": "stdout",
     "output_type": "stream",
     "text": [
      "[5, 7, 9]\n"
     ]
    }
   ],
   "source": [
    "a = [1, 2, 3]\n",
    "b = [4, 5, 6]\n",
    "result = vec_add(a,b)\n",
    "print(result)"
   ]
  },
  {
   "cell_type": "code",
   "execution_count": 145,
   "id": "29a4a26a",
   "metadata": {},
   "outputs": [],
   "source": [
    "def scalar_mul(v, c):\n",
    "    return [i*c for i in v]"
   ]
  },
  {
   "cell_type": "code",
   "execution_count": 146,
   "id": "e9f6b9fd",
   "metadata": {},
   "outputs": [
    {
     "name": "stdout",
     "output_type": "stream",
     "text": [
      "[3, 6, 9]\n"
     ]
    }
   ],
   "source": [
    "a = [1,2,3]\n",
    "num = 3\n",
    "result = scalar_mul(a, num)\n",
    "print(result)"
   ]
  },
  {
   "cell_type": "code",
   "execution_count": 147,
   "id": "a991ce42",
   "metadata": {},
   "outputs": [],
   "source": [
    "import random"
   ]
  },
  {
   "cell_type": "code",
   "execution_count": 148,
   "id": "8aba6f9c",
   "metadata": {},
   "outputs": [
    {
     "name": "stdout",
     "output_type": "stream",
     "text": [
      "0.747627919152842\n"
     ]
    }
   ],
   "source": [
    "print(random.random())"
   ]
  },
  {
   "cell_type": "code",
   "execution_count": 149,
   "id": "06c290ab",
   "metadata": {},
   "outputs": [
    {
     "name": "stdout",
     "output_type": "stream",
     "text": [
      "[0.15415871531178282, 0.9437634317173575, 0.9643697889560159, 0.7712153898694932, 0.10726946142064508]\n"
     ]
    }
   ],
   "source": [
    "randoms = [random.random() for _ in range(5)]\n",
    "print(randoms)"
   ]
  },
  {
   "cell_type": "code",
   "execution_count": 153,
   "id": "5d18d982",
   "metadata": {},
   "outputs": [
    {
     "name": "stdout",
     "output_type": "stream",
     "text": [
      "[9, 4, 5, 8, 0]\n"
     ]
    }
   ],
   "source": [
    "result = [random.randint(0,9) for _ in range(5)]\n",
    "print(result)"
   ]
  },
  {
   "cell_type": "code",
   "execution_count": 152,
   "id": "fdafe3a4",
   "metadata": {},
   "outputs": [],
   "source": [
    "import random\n",
    "random.seed(5)"
   ]
  },
  {
   "cell_type": "code",
   "execution_count": 155,
   "id": "5e3b90e1",
   "metadata": {},
   "outputs": [
    {
     "name": "stdout",
     "output_type": "stream",
     "text": [
      "[5, 7, 3, 6, 8]\n"
     ]
    }
   ],
   "source": [
    "result =[random.randint(0,9) for _ in range(5)]\n",
    "print(result)"
   ]
  },
  {
   "cell_type": "code",
   "execution_count": 156,
   "id": "eb4e4352",
   "metadata": {},
   "outputs": [
    {
     "name": "stdout",
     "output_type": "stream",
     "text": [
      "1\n"
     ]
    }
   ],
   "source": [
    "print(random.randrange(10))    "
   ]
  },
  {
   "cell_type": "code",
   "execution_count": 157,
   "id": "7a9fafa1",
   "metadata": {},
   "outputs": [
    {
     "name": "stdout",
     "output_type": "stream",
     "text": [
      "5\n"
     ]
    }
   ],
   "source": [
    "print(random.randrange(3,6))    "
   ]
  },
  {
   "cell_type": "code",
   "execution_count": 158,
   "id": "76d65176",
   "metadata": {},
   "outputs": [
    {
     "name": "stdout",
     "output_type": "stream",
     "text": [
      "2\n"
     ]
    }
   ],
   "source": [
    "print(random.randrange(1,7))    "
   ]
  },
  {
   "cell_type": "code",
   "execution_count": 159,
   "id": "8661b50b",
   "metadata": {},
   "outputs": [
    {
     "name": "stdout",
     "output_type": "stream",
     "text": [
      "[1, 2, 3, 4, 5, 6, 7, 8, 9, 10]\n"
     ]
    }
   ],
   "source": [
    "a = [1,2,3,4,5,6,7,8,9,10]\n",
    "print(a)"
   ]
  },
  {
   "cell_type": "code",
   "execution_count": 160,
   "id": "e4a46a02",
   "metadata": {},
   "outputs": [
    {
     "name": "stdout",
     "output_type": "stream",
     "text": [
      "[5, 8, 10, 6, 9, 2, 3, 7, 4, 1]\n"
     ]
    }
   ],
   "source": [
    "random.shuffle(a)\n",
    "print(a)"
   ]
  },
  {
   "cell_type": "code",
   "execution_count": 161,
   "id": "690bb6a7",
   "metadata": {},
   "outputs": [
    {
     "name": "stdout",
     "output_type": "stream",
     "text": [
      "파스타\n"
     ]
    }
   ],
   "source": [
    "today_menu = random.choice(['김밥','돈가스','파스타'])\n",
    "print(today_menu)"
   ]
  },
  {
   "cell_type": "code",
   "execution_count": 162,
   "id": "ce62eb98",
   "metadata": {},
   "outputs": [
    {
     "name": "stdout",
     "output_type": "stream",
     "text": [
      "[40, 29, 9, 43, 1, 41]\n"
     ]
    }
   ],
   "source": [
    "lotto_numbers = range(1,46)\n",
    "winning_number = random.sample(lotto_numbers, 6)\n",
    "print(winning_number)"
   ]
  },
  {
   "cell_type": "code",
   "execution_count": 163,
   "id": "6b4f9ca1",
   "metadata": {},
   "outputs": [
    {
     "name": "stdout",
     "output_type": "stream",
     "text": [
      "[1, 4, 9, 16, 25]\n"
     ]
    }
   ],
   "source": [
    "ex = [1,2,3,4,5]\n",
    "f = lambda x : x**2\n",
    "print(list(map(f, ex)))"
   ]
  },
  {
   "cell_type": "code",
   "execution_count": 166,
   "id": "af2e3289",
   "metadata": {},
   "outputs": [
    {
     "name": "stdout",
     "output_type": "stream",
     "text": [
      "[1, 4, 9, 16, 25]\n"
     ]
    }
   ],
   "source": [
    "a=[i**2 for i in range(1,6)]\n",
    "print(a)"
   ]
  },
  {
   "cell_type": "code",
   "execution_count": 167,
   "id": "cc9c17a9",
   "metadata": {},
   "outputs": [
    {
     "name": "stdout",
     "output_type": "stream",
     "text": [
      "[11, 22, 33, 44, 55]\n"
     ]
    }
   ],
   "source": [
    "a = [1,2,3,4,5]\n",
    "b = [10, 20, 30, 40, 50]\n",
    "f = lambda x,y : x+y\n",
    "print(list(map(f,a,b)))"
   ]
  },
  {
   "cell_type": "code",
   "execution_count": 170,
   "id": "99c6b58c",
   "metadata": {},
   "outputs": [
    {
     "name": "stdout",
     "output_type": "stream",
     "text": [
      "[11, 22, 33, 44, 55]\n"
     ]
    }
   ],
   "source": [
    "print([sum(i) for i in zip(a,b)])"
   ]
  },
  {
   "cell_type": "code",
   "execution_count": 171,
   "id": "641d8e6e",
   "metadata": {},
   "outputs": [
    {
     "name": "stdout",
     "output_type": "stream",
     "text": [
      "[11, 22, 33, 44, 55]\n"
     ]
    }
   ],
   "source": [
    "print([x+y for x, y in zip(a,b)])"
   ]
  },
  {
   "cell_type": "code",
   "execution_count": 175,
   "id": "96990474",
   "metadata": {},
   "outputs": [
    {
     "name": "stdout",
     "output_type": "stream",
     "text": [
      "[1, 4, 3, 16, 5]\n"
     ]
    }
   ],
   "source": [
    "a = [1,2,3,4,5]\n",
    "print(list(map(lambda x: x**2 if x%2 ==0 else x,a)))\n"
   ]
  },
  {
   "cell_type": "code",
   "execution_count": 177,
   "id": "da2db98c",
   "metadata": {},
   "outputs": [
    {
     "name": "stdout",
     "output_type": "stream",
     "text": [
      "[1, 4, 3, 16, 5]\n"
     ]
    }
   ],
   "source": [
    "print([x**2 if x%2 == 0 else x for x in a])"
   ]
  },
  {
   "cell_type": "code",
   "execution_count": 181,
   "id": "7c1a8271",
   "metadata": {},
   "outputs": [
    {
     "name": "stdout",
     "output_type": "stream",
     "text": [
      "['Small', 'Small', 'Small', 'Small', 'Middle', 'Big', 'Big', 'Big', 'Big', 'Big']\n"
     ]
    }
   ],
   "source": [
    "a = [1,2,3,4,5,6,7,8,9,10]\n",
    "#5보다 크면 big, 5보다 작으면 small, 이도저도 아니면 MIDDLE\n",
    "\n",
    "result = list(map(lambda x: \"Big\" if x>5 else \"Small\" if x<5 else \"Middle\",a))\n",
    "print(result)"
   ]
  },
  {
   "cell_type": "code",
   "execution_count": 183,
   "id": "aa198df9",
   "metadata": {},
   "outputs": [
    {
     "name": "stdout",
     "output_type": "stream",
     "text": [
      "['Small', 'Small', 'Small', 'Small', 'Middle', 'Big', 'Big', 'Big', 'Big', 'Big']\n"
     ]
    }
   ],
   "source": [
    "print([\"Big\" if x>5 else \"Small\" if x<5 else \"Middle\" for x in a])"
   ]
  },
  {
   "cell_type": "code",
   "execution_count": 184,
   "id": "1881dfd8",
   "metadata": {},
   "outputs": [],
   "source": [
    "def f1(a, *args):\n",
    "    print(a, args)\n",
    "    print(type(args))"
   ]
  },
  {
   "cell_type": "code",
   "execution_count": 185,
   "id": "2d71fc51",
   "metadata": {},
   "outputs": [
    {
     "name": "stdout",
     "output_type": "stream",
     "text": [
      "1 (2, 3, 4, 5)\n",
      "<class 'tuple'>\n"
     ]
    }
   ],
   "source": [
    "f1(1,2,3,4,5)"
   ]
  },
  {
   "cell_type": "code",
   "execution_count": 186,
   "id": "23951230",
   "metadata": {},
   "outputs": [],
   "source": [
    "def f2(a, **kargs):\n",
    "    print(a, kargs)\n",
    "    print(type(kargs))"
   ]
  },
  {
   "cell_type": "code",
   "execution_count": 187,
   "id": "e21a20d3",
   "metadata": {},
   "outputs": [
    {
     "name": "stdout",
     "output_type": "stream",
     "text": [
      "1 {'b': 2, 'c': 3, 'd': 4, 'e': 5}\n",
      "<class 'dict'>\n"
     ]
    }
   ],
   "source": [
    "f2(1,b=2, c =3, d =4, e =5)"
   ]
  },
  {
   "cell_type": "code",
   "execution_count": 188,
   "id": "8abffe6f",
   "metadata": {},
   "outputs": [],
   "source": [
    "def unpacking_f1(a, args):\n",
    "    print(a, *args)\n",
    "    print(type(args))"
   ]
  },
  {
   "cell_type": "code",
   "execution_count": 189,
   "id": "7dd57c5b",
   "metadata": {},
   "outputs": [
    {
     "name": "stdout",
     "output_type": "stream",
     "text": [
      "1 2 3 4 5 6\n",
      "<class 'tuple'>\n"
     ]
    }
   ],
   "source": [
    "unpacking_f1(1, (2,3,4,5,6))"
   ]
  },
  {
   "cell_type": "code",
   "execution_count": 190,
   "id": "a156381f",
   "metadata": {},
   "outputs": [],
   "source": [
    "def unpacking_f2(a, *args):\n",
    "    print(a, args)\n",
    "    print(type(args))"
   ]
  },
  {
   "cell_type": "code",
   "execution_count": 191,
   "id": "17e3cb45",
   "metadata": {},
   "outputs": [
    {
     "name": "stdout",
     "output_type": "stream",
     "text": [
      "1 (2, 3, 4, 5, 6)\n",
      "<class 'tuple'>\n"
     ]
    }
   ],
   "source": [
    "unpacking_f2(1, *(2,3,4,5,6))"
   ]
  },
  {
   "cell_type": "code",
   "execution_count": 192,
   "id": "4aaa279d",
   "metadata": {},
   "outputs": [
    {
     "name": "stdout",
     "output_type": "stream",
     "text": [
      "1 (2, 3, 4, 5, 6)\n",
      "<class 'tuple'>\n"
     ]
    }
   ],
   "source": [
    "unpacking_f2(1,2,3,4,5,6)"
   ]
  },
  {
   "cell_type": "code",
   "execution_count": 193,
   "id": "f3140ef3",
   "metadata": {},
   "outputs": [
    {
     "name": "stdout",
     "output_type": "stream",
     "text": [
      "[1, 2] [3, 4] [5, 6]\n"
     ]
    }
   ],
   "source": [
    "a, b, c = ([1,2],[3,4],[5,6])\n",
    "print(a,b,c)"
   ]
  },
  {
   "cell_type": "code",
   "execution_count": 194,
   "id": "cec5c841",
   "metadata": {},
   "outputs": [
    {
     "name": "stdout",
     "output_type": "stream",
     "text": [
      "[1, 2] [3, 4] [5, 6]\n"
     ]
    }
   ],
   "source": [
    "data =  ([1,2],[3,4],[5,6])\n",
    "print(*data)"
   ]
  },
  {
   "cell_type": "code",
   "execution_count": 195,
   "id": "236102a6",
   "metadata": {},
   "outputs": [],
   "source": [
    "def un_dict(a,b,c,d):\n",
    "    print(a,b,c,d)"
   ]
  },
  {
   "cell_type": "code",
   "execution_count": 196,
   "id": "cfbc3ab0",
   "metadata": {},
   "outputs": [
    {
     "name": "stdout",
     "output_type": "stream",
     "text": [
      "100 1 2 3\n"
     ]
    }
   ],
   "source": [
    "data = {'b':1, 'c':2, 'd':3}\n",
    "un_dict(100,**data)"
   ]
  },
  {
   "cell_type": "code",
   "execution_count": 201,
   "id": "2c32c85b",
   "metadata": {},
   "outputs": [
    {
     "name": "stdout",
     "output_type": "stream",
     "text": [
      "[[95, 85, 90], [90, 90, 100], [100, 100, 80]]\n",
      "[95, 85, 90] [90, 90, 100] [100, 100, 80]\n",
      "90.0 93.33333333333333 93.33333333333333\n"
     ]
    }
   ],
   "source": [
    "tom_score = [95, 85, 90]\n",
    "jane_score = [90, 90, 100]\n",
    "kate_score = [100, 100, 80]\n",
    "students_scores = [tom_score, jane_score, kate_score]\n",
    "print(students_scores)\n",
    "print(*students_scores)\n",
    "tom_total = 0\n",
    "jane_total = 0\n",
    "kate_total = 0\n",
    "for tom, jane, kate in zip(*students_scores):\n",
    "    tom_total += tom\n",
    "    jane_total += jane\n",
    "    kate_total += kate\n",
    "\n",
    "print(tom_total/3, jane_total/3, kate_total/3)"
   ]
  },
  {
   "cell_type": "code",
   "execution_count": 202,
   "id": "158f6b65",
   "metadata": {},
   "outputs": [
    {
     "name": "stdout",
     "output_type": "stream",
     "text": [
      "[0, 9]\n"
     ]
    }
   ],
   "source": [
    "u = [2, 2]\n",
    "v = [1, 2]\n",
    "z = [-3, 5]\n",
    "result = [sum(t) for t in zip(u, v, z)]\n",
    "print(result)"
   ]
  },
  {
   "cell_type": "code",
   "execution_count": 205,
   "id": "48141458",
   "metadata": {},
   "outputs": [],
   "source": [
    "def vec_add(*args): # 이 args가 패킹되어있다.\n",
    "    return[sum(t) for t in zip(*args)] # 이 args를 언패킹해라."
   ]
  },
  {
   "cell_type": "code",
   "execution_count": 207,
   "id": "53441e64",
   "metadata": {
    "scrolled": true
   },
   "outputs": [
    {
     "name": "stdout",
     "output_type": "stream",
     "text": [
      "[2, 2] [1, 2] [-3, 5]\n",
      "[0, 9]\n"
     ]
    }
   ],
   "source": [
    "print(u,v,z)\n",
    "print(vec_add(u,v,z))"
   ]
  },
  {
   "cell_type": "code",
   "execution_count": 208,
   "id": "37cef749",
   "metadata": {},
   "outputs": [
    {
     "name": "stdout",
     "output_type": "stream",
     "text": [
      "[0, 9]\n"
     ]
    }
   ],
   "source": [
    "vectors = [[2,2],[1,2],[-3,5]]\n",
    "print(vec_add(*vectors))"
   ]
  },
  {
   "cell_type": "code",
   "execution_count": 209,
   "id": "a8c009ff",
   "metadata": {},
   "outputs": [
    {
     "name": "stdout",
     "output_type": "stream",
     "text": [
      "[[8, 14], [10, 12]]\n"
     ]
    }
   ],
   "source": [
    "matrix_a = [[3,6],[4,5]]\n",
    "matrix_b = [[5,8],[6,7]]\n",
    "\n",
    "result = [[sum(row) for row in zip(*t)] for t in zip(matrix_a, matrix_b)]\n",
    "print(result)\n"
   ]
  },
  {
   "cell_type": "code",
   "execution_count": 212,
   "id": "01516343",
   "metadata": {},
   "outputs": [
    {
     "name": "stdout",
     "output_type": "stream",
     "text": [
      "([3, 6], [5, 8])\n",
      "([4, 5], [6, 7])\n"
     ]
    }
   ],
   "source": [
    "for t in zip(matrix_a, matrix_b):\n",
    "    print(t)"
   ]
  },
  {
   "cell_type": "code",
   "execution_count": 213,
   "id": "2620ffc1",
   "metadata": {},
   "outputs": [
    {
     "name": "stdout",
     "output_type": "stream",
     "text": [
      "[3, 6] [5, 8]\n",
      "[4, 5] [6, 7]\n"
     ]
    }
   ],
   "source": [
    "for t in zip(matrix_a, matrix_b):\n",
    "    print(*t)"
   ]
  },
  {
   "cell_type": "code",
   "execution_count": 216,
   "id": "829709bf",
   "metadata": {},
   "outputs": [
    {
     "name": "stdout",
     "output_type": "stream",
     "text": [
      "(3, 5) (6, 8)\n",
      "(4, 6) (5, 7)\n"
     ]
    }
   ],
   "source": [
    "for t in zip(matrix_a, matrix_b):\n",
    "    a,b = zip(*t)\n",
    "    print(a,b)"
   ]
  },
  {
   "cell_type": "code",
   "execution_count": 217,
   "id": "90f4c718",
   "metadata": {},
   "outputs": [
    {
     "name": "stdout",
     "output_type": "stream",
     "text": [
      "[[1, 4], [2, 5], [3, 6]]\n"
     ]
    }
   ],
   "source": [
    "matrix_a = [[1,2,3],[4,5,6]]\n",
    "result = [[element for element in t] for t in zip(*matrix_a)]\n",
    "print(result)"
   ]
  },
  {
   "cell_type": "code",
   "execution_count": 220,
   "id": "f446d13d",
   "metadata": {},
   "outputs": [
    {
     "name": "stdout",
     "output_type": "stream",
     "text": [
      "[1, 2, 3] [4, 5, 6]\n",
      "(1, 4)\n",
      "(2, 5)\n",
      "(3, 6)\n"
     ]
    }
   ],
   "source": [
    "print(*matrix_a)\n",
    "for t in zip(*matrix_a):\n",
    "    print(t)"
   ]
  },
  {
   "cell_type": "code",
   "execution_count": 222,
   "id": "42d06b2b",
   "metadata": {},
   "outputs": [
    {
     "name": "stdout",
     "output_type": "stream",
     "text": [
      "[[5, 8], [5, 6]]\n"
     ]
    }
   ],
   "source": [
    "matrix_a = [[1,1,2],[2,1,1]]\n",
    "matrix_b = [[1,1],[2,1],[1,3]]\n",
    "\n",
    "result = [[sum(a*b for a, b in zip(row_a, column_b))\\\n",
    "           for column_b in zip(*matrix_b)] for row_a in matrix_a]\n",
    "print(result)\n"
   ]
  },
  {
   "cell_type": "code",
   "execution_count": 224,
   "id": "eaa4baa3",
   "metadata": {},
   "outputs": [
    {
     "name": "stdout",
     "output_type": "stream",
     "text": [
      "[1, 1, 2]\n",
      "[2, 1, 1]\n"
     ]
    }
   ],
   "source": [
    "for row_a in matrix_a:\n",
    "    print(row_a)"
   ]
  },
  {
   "cell_type": "code",
   "execution_count": 226,
   "id": "d5f214ce",
   "metadata": {},
   "outputs": [
    {
     "name": "stdout",
     "output_type": "stream",
     "text": [
      "(1, 2, 1)\n",
      "(1, 1, 3)\n"
     ]
    }
   ],
   "source": [
    "for column_b in zip(*matrix_b):\n",
    "    print(column_b)"
   ]
  },
  {
   "cell_type": "code",
   "execution_count": null,
   "id": "3b3ddd90",
   "metadata": {},
   "outputs": [],
   "source": []
  }
 ],
 "metadata": {
  "kernelspec": {
   "display_name": "Python 3 (ipykernel)",
   "language": "python",
   "name": "python3"
  },
  "language_info": {
   "codemirror_mode": {
    "name": "ipython",
    "version": 3
   },
   "file_extension": ".py",
   "mimetype": "text/x-python",
   "name": "python",
   "nbconvert_exporter": "python",
   "pygments_lexer": "ipython3",
   "version": "3.8.12"
  }
 },
 "nbformat": 4,
 "nbformat_minor": 5
}

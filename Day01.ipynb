{
 "cells": [
  {
   "cell_type": "code",
   "execution_count": 1,
   "id": "a8f2e381",
   "metadata": {},
   "outputs": [
    {
     "name": "stdout",
     "output_type": "stream",
     "text": [
      "3\n"
     ]
    }
   ],
   "source": [
    "a=1\n",
    "b=2\n",
    "print(a+b)"
   ]
  },
  {
   "cell_type": "code",
   "execution_count": 2,
   "id": "e5be004a",
   "metadata": {},
   "outputs": [
    {
     "name": "stdout",
     "output_type": "stream",
     "text": [
      "4.0\n"
     ]
    }
   ],
   "source": [
    "a=1.5\n",
    "b=2.5\n",
    "print(a+b)"
   ]
  },
  {
   "cell_type": "code",
   "execution_count": 3,
   "id": "8a263b8d",
   "metadata": {},
   "outputs": [
    {
     "name": "stdout",
     "output_type": "stream",
     "text": [
      "이것은 문자열\n",
      "이것은 문자열\n",
      "이것은 문자열\n",
      "문자열문자열\n",
      "여러줄 문자열\n",
      "이것은 문자열\n",
      "문자열 여러줄\n",
      "여러줄\n"
     ]
    }
   ],
   "source": [
    "a=\"이것은 문자열\"\n",
    "b='이것은 문자열'\n",
    "c=\"\"\"이것은 문자열\n",
    "문자열문자열\n",
    "여러줄 문자열\"\"\"\n",
    "d='''이것은 문자열\n",
    "문자열 여러줄\n",
    "여러줄'''\n",
    "print(a)\n",
    "print(b)\n",
    "print(c)\n",
    "print(d)\n",
    "\n"
   ]
  },
  {
   "cell_type": "code",
   "execution_count": 4,
   "id": "5e459fa5",
   "metadata": {},
   "outputs": [
    {
     "name": "stdout",
     "output_type": "stream",
     "text": [
      "True False\n"
     ]
    }
   ],
   "source": [
    "a=True\n",
    "b=False\n",
    "print(a,b)"
   ]
  },
  {
   "cell_type": "code",
   "execution_count": 5,
   "id": "41031c3d",
   "metadata": {},
   "outputs": [
    {
     "name": "stdout",
     "output_type": "stream",
     "text": [
      "3.5\n",
      "3\n",
      "1\n"
     ]
    }
   ],
   "source": [
    "print(7/2)\n",
    "print(7//2)\n",
    "print(7%2)\n"
   ]
  },
  {
   "cell_type": "code",
   "execution_count": 6,
   "id": "7ed6fbcd",
   "metadata": {},
   "outputs": [
    {
     "name": "stdout",
     "output_type": "stream",
     "text": [
      "4\n",
      "-4\n"
     ]
    }
   ],
   "source": [
    "print(-1%5)\n",
    "print(1%-5)"
   ]
  },
  {
   "cell_type": "code",
   "execution_count": 7,
   "id": "202afdd0",
   "metadata": {},
   "outputs": [
    {
     "name": "stdout",
     "output_type": "stream",
     "text": [
      "10 10.0\n"
     ]
    }
   ],
   "source": [
    "a=10\n",
    "b=float(a)\n",
    "print(a,b)"
   ]
  },
  {
   "cell_type": "code",
   "execution_count": 8,
   "id": "4193b3c9",
   "metadata": {},
   "outputs": [
    {
     "name": "stdout",
     "output_type": "stream",
     "text": [
      "9.7 9\n"
     ]
    }
   ],
   "source": [
    "a=9.7\n",
    "b=int(a)\n",
    "print(a,b)"
   ]
  },
  {
   "cell_type": "code",
   "execution_count": 9,
   "id": "fe6cfbfe",
   "metadata": {},
   "outputs": [
    {
     "name": "stdout",
     "output_type": "stream",
     "text": [
      "76.2 76.2\n"
     ]
    }
   ],
   "source": [
    "a=\"76.2\"\n",
    "b=float(a)\n",
    "print(a,b)"
   ]
  },
  {
   "cell_type": "code",
   "execution_count": 10,
   "id": "553813da",
   "metadata": {},
   "outputs": [
    {
     "name": "stdout",
     "output_type": "stream",
     "text": [
      "32.0 10.221.8\n"
     ]
    }
   ],
   "source": [
    "a=10.2\n",
    "b=21.8\n",
    "c=str(a)\n",
    "d=str(b)\n",
    "print(a+b, c+d)"
   ]
  },
  {
   "cell_type": "code",
   "execution_count": 11,
   "id": "4d00e87f",
   "metadata": {},
   "outputs": [
    {
     "name": "stdout",
     "output_type": "stream",
     "text": [
      "Enter name: \n",
      "Tom\n",
      "Good morning! Tom\n"
     ]
    }
   ],
   "source": [
    "print(\"Enter name: \")\n",
    "name = input()\n",
    "print('Good morning!', name)"
   ]
  },
  {
   "cell_type": "code",
   "execution_count": 12,
   "id": "5d1bc7f0",
   "metadata": {},
   "outputs": [
    {
     "name": "stdout",
     "output_type": "stream",
     "text": [
      "Enter name: Tom\n",
      "Good morning! Tom\n"
     ]
    }
   ],
   "source": [
    "name = input(\"Enter name: \")\n",
    "print('Good morning!', name)"
   ]
  },
  {
   "cell_type": "code",
   "execution_count": 14,
   "id": "5f7ec5e4",
   "metadata": {},
   "outputs": [
    {
     "name": "stdout",
     "output_type": "stream",
     "text": [
      "\n",
      "hi John\n",
      "hi John\n"
     ]
    }
   ],
   "source": [
    "print()\n",
    "print('hi','John')\n",
    "print(\"hi\"+' '+'John')"
   ]
  },
  {
   "cell_type": "code",
   "execution_count": 16,
   "id": "8baed291",
   "metadata": {},
   "outputs": [
    {
     "name": "stdout",
     "output_type": "stream",
     "text": [
      "red\n",
      "green\n",
      "3\n",
      "['red', 'blue', 'green']\n"
     ]
    }
   ],
   "source": [
    "colors=['red','blue','green']\n",
    "print(colors[0])\n",
    "print(colors[2])\n",
    "print(len(colors))\n",
    "print(colors)"
   ]
  },
  {
   "cell_type": "code",
   "execution_count": 17,
   "id": "2ed1ef62",
   "metadata": {},
   "outputs": [
    {
     "name": "stdout",
     "output_type": "stream",
     "text": [
      "[1, 2, 'Three', True]\n"
     ]
    }
   ],
   "source": [
    "mix_list = [1, 2,'Three',True]\n",
    "print(mix_list)"
   ]
  },
  {
   "cell_type": "code",
   "execution_count": 18,
   "id": "6c30a009",
   "metadata": {},
   "outputs": [],
   "source": [
    "cities = ['서울','부산','인천', '대구', '대전', '광주', '울산', '수원']"
   ]
  },
  {
   "cell_type": "code",
   "execution_count": 19,
   "id": "f0ab6c3f",
   "metadata": {},
   "outputs": [
    {
     "name": "stdout",
     "output_type": "stream",
     "text": [
      "['서울', '부산', '인천', '대구', '대전', '광주']\n"
     ]
    }
   ],
   "source": [
    "print(cities[0:6])"
   ]
  },
  {
   "cell_type": "code",
   "execution_count": 20,
   "id": "eaa5e5e5",
   "metadata": {},
   "outputs": [
    {
     "name": "stdout",
     "output_type": "stream",
     "text": [
      "['서울', '부산', '인천', '대구', '대전', '광주']\n"
     ]
    }
   ],
   "source": [
    "print(cities[:6])"
   ]
  },
  {
   "cell_type": "code",
   "execution_count": 21,
   "id": "5f54ca63",
   "metadata": {},
   "outputs": [
    {
     "name": "stdout",
     "output_type": "stream",
     "text": [
      "['인천', '대구', '대전', '광주', '울산', '수원']\n"
     ]
    }
   ],
   "source": [
    "print(cities[2:])"
   ]
  },
  {
   "cell_type": "code",
   "execution_count": 22,
   "id": "bd9d8824",
   "metadata": {},
   "outputs": [
    {
     "name": "stdout",
     "output_type": "stream",
     "text": [
      "['부산', '인천', '대구', '대전', '광주', '울산', '수원']\n"
     ]
    }
   ],
   "source": [
    "print(cities[-7:])"
   ]
  },
  {
   "cell_type": "code",
   "execution_count": 23,
   "id": "acdd488c",
   "metadata": {},
   "outputs": [
    {
     "name": "stdout",
     "output_type": "stream",
     "text": [
      "['서울', '부산', '인천', '대구', '대전', '광주']\n"
     ]
    }
   ],
   "source": [
    "print(cities[:-2])"
   ]
  },
  {
   "cell_type": "code",
   "execution_count": 24,
   "id": "7e7fc831",
   "metadata": {},
   "outputs": [
    {
     "name": "stdout",
     "output_type": "stream",
     "text": [
      "['서울', '부산', '인천', '대구', '대전', '광주', '울산', '수원']\n",
      "['서울', '부산', '인천', '대구', '대전', '광주', '울산', '수원']\n"
     ]
    }
   ],
   "source": [
    "print(cities[:])\n",
    "print(cities)"
   ]
  },
  {
   "cell_type": "code",
   "execution_count": 25,
   "id": "9b103cca",
   "metadata": {},
   "outputs": [
    {
     "name": "stdout",
     "output_type": "stream",
     "text": [
      "['부산', '대구', '광주']\n"
     ]
    }
   ],
   "source": [
    "print(cities[1:7:2])"
   ]
  },
  {
   "cell_type": "code",
   "execution_count": 26,
   "id": "7e6f435d",
   "metadata": {},
   "outputs": [
    {
     "name": "stdout",
     "output_type": "stream",
     "text": [
      "['수원', '울산', '광주', '대전', '대구', '인천', '부산', '서울']\n"
     ]
    }
   ],
   "source": [
    "print(cities[::-1])"
   ]
  },
  {
   "cell_type": "code",
   "execution_count": 27,
   "id": "73a6b036",
   "metadata": {},
   "outputs": [
    {
     "name": "stdout",
     "output_type": "stream",
     "text": [
      "['서울', '인천', '대전', '울산']\n"
     ]
    }
   ],
   "source": [
    "print(cities[::2])"
   ]
  },
  {
   "cell_type": "code",
   "execution_count": 28,
   "id": "4ed86d29",
   "metadata": {},
   "outputs": [
    {
     "name": "stdout",
     "output_type": "stream",
     "text": [
      "6\n",
      "['red', 'blue', 'green', 'orange', 'black', 'white']\n"
     ]
    }
   ],
   "source": [
    "color1=['red','blue','green']\n",
    "color2=['orange','black','white']\n",
    "add_color=color1+color2\n",
    "print(len(add_color))\n",
    "print(add_color)"
   ]
  },
  {
   "cell_type": "code",
   "execution_count": 29,
   "id": "e2bf38d9",
   "metadata": {},
   "outputs": [
    {
     "name": "stdout",
     "output_type": "stream",
     "text": [
      "6\n",
      "['red', 'blue', 'green', 'red', 'blue', 'green']\n"
     ]
    }
   ],
   "source": [
    "mun_color=color1*2\n",
    "print(len(mun_color))\n",
    "print(mun_color)"
   ]
  },
  {
   "cell_type": "code",
   "execution_count": 30,
   "id": "dc9e9996",
   "metadata": {},
   "outputs": [
    {
     "name": "stdout",
     "output_type": "stream",
     "text": [
      "False\n"
     ]
    }
   ],
   "source": [
    "print('blue' in color2)"
   ]
  },
  {
   "cell_type": "code",
   "execution_count": 31,
   "id": "8d2da93b",
   "metadata": {},
   "outputs": [
    {
     "name": "stdout",
     "output_type": "stream",
     "text": [
      "['red', 'blue', 'green', 'orange']\n"
     ]
    }
   ],
   "source": [
    "color1.append('orange')\n",
    "print(color1)"
   ]
  },
  {
   "cell_type": "code",
   "execution_count": 32,
   "id": "85c52537",
   "metadata": {},
   "outputs": [
    {
     "name": "stdout",
     "output_type": "stream",
     "text": [
      "['red', 'blue', 'green', 'orange', 'black', 'white']\n"
     ]
    }
   ],
   "source": [
    "color1.extend(['black','white'])\n",
    "print(color1)"
   ]
  },
  {
   "cell_type": "code",
   "execution_count": 33,
   "id": "89e27859",
   "metadata": {},
   "outputs": [
    {
     "name": "stdout",
     "output_type": "stream",
     "text": [
      "['orange', 'red', 'black', 'white']\n"
     ]
    }
   ],
   "source": [
    "color2.insert(1,'red')\n",
    "print(color2)"
   ]
  },
  {
   "cell_type": "code",
   "execution_count": 34,
   "id": "bfd92d25",
   "metadata": {},
   "outputs": [
    {
     "name": "stdout",
     "output_type": "stream",
     "text": [
      "['orange', 'red', 'purple', 'black', 'white']\n"
     ]
    }
   ],
   "source": [
    "color2.insert(2,'purple')\n",
    "print(color2)"
   ]
  },
  {
   "cell_type": "code",
   "execution_count": 35,
   "id": "53b15eff",
   "metadata": {},
   "outputs": [
    {
     "name": "stdout",
     "output_type": "stream",
     "text": [
      "['orange', 'red', 'black', 'white']\n"
     ]
    }
   ],
   "source": [
    "color2.remove('purple')\n",
    "print(color2)"
   ]
  },
  {
   "cell_type": "code",
   "execution_count": 37,
   "id": "ce3ee0ec",
   "metadata": {},
   "outputs": [
    {
     "name": "stdout",
     "output_type": "stream",
     "text": [
      "10.2\n"
     ]
    }
   ],
   "source": [
    "print (a)"
   ]
  },
  {
   "cell_type": "code",
   "execution_count": 38,
   "id": "51d8951f",
   "metadata": {},
   "outputs": [
    {
     "ename": "NameError",
     "evalue": "name 'a' is not defined",
     "output_type": "error",
     "traceback": [
      "\u001b[1;31m---------------------------------------------------------------------------\u001b[0m",
      "\u001b[1;31mNameError\u001b[0m                                 Traceback (most recent call last)",
      "\u001b[1;32m<ipython-input-38-c342333e421e>\u001b[0m in \u001b[0;36m<module>\u001b[1;34m\u001b[0m\n\u001b[0;32m      1\u001b[0m \u001b[1;32mdel\u001b[0m \u001b[0ma\u001b[0m\u001b[1;33m\u001b[0m\u001b[1;33m\u001b[0m\u001b[0m\n\u001b[1;32m----> 2\u001b[1;33m \u001b[0mprint\u001b[0m\u001b[1;33m(\u001b[0m\u001b[0ma\u001b[0m\u001b[1;33m)\u001b[0m\u001b[1;33m\u001b[0m\u001b[1;33m\u001b[0m\u001b[0m\n\u001b[0m",
      "\u001b[1;31mNameError\u001b[0m: name 'a' is not defined"
     ]
    }
   ],
   "source": [
    "del a\n",
    "print(a)"
   ]
  },
  {
   "cell_type": "code",
   "execution_count": 39,
   "id": "eb049a7c",
   "metadata": {},
   "outputs": [
    {
     "name": "stdout",
     "output_type": "stream",
     "text": [
      "['red', 'black', 'white']\n"
     ]
    }
   ],
   "source": [
    "del color2[0]\n",
    "print (color2)"
   ]
  },
  {
   "cell_type": "code",
   "execution_count": 40,
   "id": "3672090e",
   "metadata": {},
   "outputs": [
    {
     "name": "stdout",
     "output_type": "stream",
     "text": [
      "['red', 'black', 'purple']\n"
     ]
    }
   ],
   "source": [
    "color2[2] ='purple'\n",
    "print (color2)"
   ]
  },
  {
   "cell_type": "code",
   "execution_count": 41,
   "id": "58cf6c7d",
   "metadata": {},
   "outputs": [],
   "source": [
    "color = ['red', 'blue', 'green']"
   ]
  },
  {
   "cell_type": "code",
   "execution_count": 42,
   "id": "e283916f",
   "metadata": {},
   "outputs": [
    {
     "name": "stdout",
     "output_type": "stream",
     "text": [
      "red blue green\n"
     ]
    }
   ],
   "source": [
    "a,b,c=color\n",
    "print(a,b,c)"
   ]
  },
  {
   "cell_type": "code",
   "execution_count": 43,
   "id": "97215a2c",
   "metadata": {},
   "outputs": [
    {
     "name": "stdout",
     "output_type": "stream",
     "text": [
      "red green\n"
     ]
    }
   ],
   "source": [
    "a,_,c = color\n",
    "print(a,c)"
   ]
  },
  {
   "cell_type": "code",
   "execution_count": 44,
   "id": "ec52f550",
   "metadata": {},
   "outputs": [
    {
     "name": "stdout",
     "output_type": "stream",
     "text": [
      "[[60, 65, 85, 100, 90], [75, 80, 90, 85, 100], [100, 90, 70, 90, 85]]\n"
     ]
    }
   ],
   "source": [
    "kor_score=[60,65,85,100,90]\n",
    "eng_score=[75,80,90,85,100]\n",
    "math_score=[100,90,70,90,85]\n",
    "term_score=[kor_score,eng_score,math_score]\n",
    "print(term_score)"
   ]
  },
  {
   "cell_type": "code",
   "execution_count": 45,
   "id": "8dcf4030",
   "metadata": {},
   "outputs": [
    {
     "name": "stdout",
     "output_type": "stream",
     "text": [
      "[60, 65, 85, 100, 90]\n"
     ]
    }
   ],
   "source": [
    "print(term_score[0])"
   ]
  },
  {
   "cell_type": "code",
   "execution_count": 46,
   "id": "9be319a2",
   "metadata": {},
   "outputs": [
    {
     "name": "stdout",
     "output_type": "stream",
     "text": [
      "85\n"
     ]
    }
   ],
   "source": [
    "print(term_score[0][2])"
   ]
  },
  {
   "cell_type": "code",
   "execution_count": 47,
   "id": "b59816a0",
   "metadata": {},
   "outputs": [
    {
     "name": "stdout",
     "output_type": "stream",
     "text": [
      "[0, 90, 70, 90, 85]\n"
     ]
    }
   ],
   "source": [
    "math_backup_score=math_score\n",
    "math_score[0]=0\n",
    "print(math_score)"
   ]
  },
  {
   "cell_type": "code",
   "execution_count": 48,
   "id": "65624ca8",
   "metadata": {},
   "outputs": [
    {
     "name": "stdout",
     "output_type": "stream",
     "text": [
      "[[60, 65, 85, 100, 90], [75, 80, 90, 85, 100], [0, 90, 70, 90, 85]]\n"
     ]
    }
   ],
   "source": [
    "print(term_score)"
   ]
  },
  {
   "cell_type": "code",
   "execution_count": 49,
   "id": "2d6f308b",
   "metadata": {},
   "outputs": [
    {
     "name": "stdout",
     "output_type": "stream",
     "text": [
      "[0, 90, 70, 90, 85]\n"
     ]
    }
   ],
   "source": [
    "print(math_backup_score)"
   ]
  },
  {
   "cell_type": "code",
   "execution_count": 50,
   "id": "cdd6a44c",
   "metadata": {},
   "outputs": [
    {
     "name": "stdout",
     "output_type": "stream",
     "text": [
      "[6, 7, 5, 10, 1]\n"
     ]
    }
   ],
   "source": [
    "a=[1,10,5,7,6]\n",
    "a.reverse()\n",
    "print(a)"
   ]
  },
  {
   "cell_type": "code",
   "execution_count": 51,
   "id": "1b308f71",
   "metadata": {},
   "outputs": [
    {
     "name": "stdout",
     "output_type": "stream",
     "text": [
      "[1, 5, 6, 7, 10]\n"
     ]
    }
   ],
   "source": [
    "a.sort()\n",
    "print(a)"
   ]
  },
  {
   "cell_type": "code",
   "execution_count": 52,
   "id": "d8b35358",
   "metadata": {},
   "outputs": [
    {
     "name": "stdout",
     "output_type": "stream",
     "text": [
      "[10, 7, 6, 5, 1]\n"
     ]
    }
   ],
   "source": [
    "a.sort(reverse=True)\n",
    "print(a)"
   ]
  },
  {
   "cell_type": "code",
   "execution_count": 53,
   "id": "eb5d7037",
   "metadata": {},
   "outputs": [
    {
     "name": "stdout",
     "output_type": "stream",
     "text": [
      "[10, 7, 6, 5, 1]\n",
      "[1, 5, 6, 7, 10]\n"
     ]
    }
   ],
   "source": [
    "b=sorted(a)\n",
    "print(a)\n",
    "print(b)"
   ]
  },
  {
   "cell_type": "code",
   "execution_count": 54,
   "id": "d8b407af",
   "metadata": {},
   "outputs": [
    {
     "name": "stdout",
     "output_type": "stream",
     "text": [
      "[10, 7, 6, 5, 1]\n"
     ]
    }
   ],
   "source": [
    "c=sorted(a,reverse=True)\n",
    "print(c)"
   ]
  },
  {
   "cell_type": "code",
   "execution_count": 55,
   "id": "e1abfe65",
   "metadata": {},
   "outputs": [
    {
     "name": "stdout",
     "output_type": "stream",
     "text": [
      "2\n"
     ]
    }
   ],
   "source": [
    "a=[5,10,5,7,6]\n",
    "print(a.count(5))"
   ]
  },
  {
   "cell_type": "code",
   "execution_count": 56,
   "id": "5dc28f39",
   "metadata": {},
   "outputs": [
    {
     "name": "stdout",
     "output_type": "stream",
     "text": [
      "[['egg', 'salad', 'bread'], ['lamb', 'chicken'], ['apple']]\n"
     ]
    }
   ],
   "source": [
    "appetizer = ['egg','salad','bread','soup','canape']\n",
    "main_dish = ['fish','lamb','pork','beef','chicken']\n",
    "dessert = ['apple','ice cream', 'pudding', 'cookies', 'cake']\n",
    "\n",
    "order =[appetizer, main_dish, dessert]\n",
    "jane = [order[0][:-2],main_dish[1::3],dessert[1]]\n",
    "del jane[2]\n",
    "jane.extend([order[2][0:1]])\n",
    "\n",
    "print(jane)"
   ]
  },
  {
   "cell_type": "code",
   "execution_count": 57,
   "id": "5b2cc6f4",
   "metadata": {},
   "outputs": [
    {
     "name": "stdout",
     "output_type": "stream",
     "text": [
      "Tell me your age?40\n",
      "Oh! No. you are not accepted.\n"
     ]
    }
   ],
   "source": [
    "my_age = int(input(\"Tell me your age?\"))\n",
    "if my_age < 30 :\n",
    "    print('welcome to the club')\n",
    "else:\n",
    "    print(\"Oh! No. you are not accepted.\")"
   ]
  },
  {
   "cell_type": "code",
   "execution_count": 58,
   "id": "d4e27be9",
   "metadata": {},
   "outputs": [
    {
     "name": "stdout",
     "output_type": "stream",
     "text": [
      "Enter your score:75\n",
      "C\n"
     ]
    }
   ],
   "source": [
    "score =int(input('Enter your score:'))\n",
    "if score >=90 :\n",
    "    grade ='A'\n",
    "elif score >=80:\n",
    "    grade ='B'\n",
    "elif score >=70:\n",
    "    grade ='C'\n",
    "elif score >=60:\n",
    "    grade='D'\n",
    "else:\n",
    "    grade ='F'\n",
    "print(grade)"
   ]
  },
  {
   "cell_type": "code",
   "execution_count": 59,
   "id": "d9d527c7",
   "metadata": {},
   "outputs": [
    {
     "name": "stdout",
     "output_type": "stream",
     "text": [
      "100\n"
     ]
    }
   ],
   "source": [
    "a = 10\n",
    "b = a*10 if a%2 ==0 else a+10\n",
    "print(b)"
   ]
  },
  {
   "cell_type": "code",
   "execution_count": 62,
   "id": "ce5433e0",
   "metadata": {},
   "outputs": [
    {
     "name": "stdout",
     "output_type": "stream",
     "text": [
      "No. 1\n",
      "No. 2\n",
      "No. 3\n",
      "No. 4\n",
      "No. 5\n"
     ]
    }
   ],
   "source": [
    "for n in [1,2,3,4,5]:\n",
    "    print('No.', n)"
   ]
  },
  {
   "cell_type": "code",
   "execution_count": 63,
   "id": "2af88f57",
   "metadata": {},
   "outputs": [
    {
     "name": "stdout",
     "output_type": "stream",
     "text": [
      "No. 0\n",
      "No. 1\n",
      "No. 2\n",
      "No. 3\n",
      "No. 4\n"
     ]
    }
   ],
   "source": [
    "for n in range(5):\n",
    "    print('No.',n)"
   ]
  },
  {
   "cell_type": "code",
   "execution_count": 64,
   "id": "9d397f25",
   "metadata": {},
   "outputs": [
    {
     "name": "stdout",
     "output_type": "stream",
     "text": [
      "No. 1\n",
      "No. 2\n",
      "No. 3\n",
      "No. 4\n",
      "No. 5\n"
     ]
    }
   ],
   "source": [
    "for n in range(1,6):\n",
    "    print('No.',n)"
   ]
  },
  {
   "cell_type": "code",
   "execution_count": 65,
   "id": "6965c578",
   "metadata": {},
   "outputs": [
    {
     "name": "stdout",
     "output_type": "stream",
     "text": [
      "No. 1\n",
      "No. 3\n",
      "No. 5\n"
     ]
    }
   ],
   "source": [
    "for n in range(1,6,2):\n",
    "    print('No.',n)"
   ]
  },
  {
   "cell_type": "code",
   "execution_count": 66,
   "id": "e63d82de",
   "metadata": {},
   "outputs": [
    {
     "name": "stdout",
     "output_type": "stream",
     "text": [
      "a\n",
      "b\n",
      "c\n",
      "d\n",
      "e\n",
      "f\n",
      "g\n"
     ]
    }
   ],
   "source": [
    "for n in 'abcdefg':\n",
    "    print(n)"
   ]
  },
  {
   "cell_type": "code",
   "execution_count": 67,
   "id": "288fec3a",
   "metadata": {},
   "outputs": [
    {
     "name": "stdout",
     "output_type": "stream",
     "text": [
      "banana\n",
      "pineapple\n",
      "mango\n"
     ]
    }
   ],
   "source": [
    "for n in ['banana','pineapple','mango']:\n",
    "    print(n)"
   ]
  },
  {
   "cell_type": "code",
   "execution_count": 68,
   "id": "8cdbc11a",
   "metadata": {},
   "outputs": [
    {
     "name": "stdout",
     "output_type": "stream",
     "text": [
      "b\n",
      "a\n",
      "n\n",
      "a\n",
      "n\n",
      "a\n",
      "p\n",
      "i\n",
      "n\n",
      "e\n",
      "a\n",
      "p\n",
      "p\n",
      "l\n",
      "e\n",
      "m\n",
      "a\n",
      "n\n",
      "g\n",
      "o\n"
     ]
    }
   ],
   "source": [
    "for n in ['banana','pineapple','mango']:\n",
    "    for k in n:\n",
    "        print(k)"
   ]
  },
  {
   "cell_type": "code",
   "execution_count": 69,
   "id": "e955886d",
   "metadata": {},
   "outputs": [
    {
     "name": "stdout",
     "output_type": "stream",
     "text": [
      "b\n",
      "a\n",
      "n\n",
      "a\n",
      "n\n",
      "a\n",
      "\n",
      "p\n",
      "i\n",
      "n\n",
      "e\n",
      "a\n",
      "p\n",
      "p\n",
      "l\n",
      "e\n",
      "\n",
      "m\n",
      "a\n",
      "n\n",
      "g\n",
      "o\n",
      "\n"
     ]
    }
   ],
   "source": [
    "for n in ['banana','pineapple','mango']:\n",
    "    for k in n:\n",
    "        print(k)\n",
    "    print()"
   ]
  },
  {
   "cell_type": "code",
   "execution_count": 70,
   "id": "7f065af7",
   "metadata": {},
   "outputs": [
    {
     "name": "stdout",
     "output_type": "stream",
     "text": [
      "banana\n",
      "pineapple\n",
      "mango\n"
     ]
    }
   ],
   "source": [
    "for n in ['banana','pineapple','mango']:\n",
    "    for k in n:\n",
    "        print(k, end='')\n",
    "    print()"
   ]
  },
  {
   "cell_type": "code",
   "execution_count": 71,
   "id": "015b1500",
   "metadata": {},
   "outputs": [
    {
     "name": "stdout",
     "output_type": "stream",
     "text": [
      "1\n",
      "2\n",
      "3\n",
      "4\n",
      "5\n",
      "6\n",
      "7\n",
      "8\n",
      "9\n"
     ]
    }
   ],
   "source": [
    "i = 1\n",
    "while i < 10:\n",
    "    print(i)\n",
    "    i+=1"
   ]
  },
  {
   "cell_type": "code",
   "execution_count": 72,
   "id": "71357d47",
   "metadata": {},
   "outputs": [
    {
     "name": "stdout",
     "output_type": "stream",
     "text": [
      "0\n",
      "1\n",
      "2\n",
      "3\n",
      "4\n",
      "End of Program\n"
     ]
    }
   ],
   "source": [
    "for i in range(10):\n",
    "    if i==5:\n",
    "        break\n",
    "    print(i)\n",
    "print('End of Program')"
   ]
  },
  {
   "cell_type": "code",
   "execution_count": 73,
   "id": "189dad40",
   "metadata": {},
   "outputs": [
    {
     "name": "stdout",
     "output_type": "stream",
     "text": [
      "0\n",
      "1\n",
      "2\n",
      "3\n",
      "4\n",
      "6\n",
      "7\n",
      "8\n",
      "9\n",
      "End of Program\n"
     ]
    }
   ],
   "source": [
    "for i in range(10):\n",
    "    if i==5:\n",
    "        continue\n",
    "    print(i)\n",
    "print('End of Program')"
   ]
  },
  {
   "cell_type": "code",
   "execution_count": 74,
   "id": "255d0d54",
   "metadata": {},
   "outputs": [
    {
     "name": "stdout",
     "output_type": "stream",
     "text": [
      "0\n",
      "1\n",
      "2\n",
      "3\n",
      "4\n",
      "5\n",
      "6\n",
      "7\n",
      "8\n",
      "9\n",
      "End of Program\n"
     ]
    }
   ],
   "source": [
    "for i in range(10):\n",
    "    print(i)\n",
    "else:\n",
    "    print('End of Program')"
   ]
  },
  {
   "cell_type": "code",
   "execution_count": 75,
   "id": "7a46223d",
   "metadata": {},
   "outputs": [
    {
     "name": "stdout",
     "output_type": "stream",
     "text": [
      "0\n",
      "1\n",
      "2\n",
      "3\n",
      "4\n"
     ]
    }
   ],
   "source": [
    "for i in range(10):\n",
    "    if i ==5:break\n",
    "    print(i)\n",
    "else:\n",
    "    print('End of Program')"
   ]
  },
  {
   "cell_type": "code",
   "execution_count": 79,
   "id": "b70219ca",
   "metadata": {},
   "outputs": [
    {
     "name": "stdout",
     "output_type": "stream",
     "text": [
      "몇단?3\n",
      "3 X 1 = 3\n",
      "3 X 2 = 6\n",
      "3 X 3 = 9\n",
      "3 X 4 = 12\n",
      "3 X 5 = 15\n",
      "3 X 6 = 18\n",
      "3 X 7 = 21\n",
      "3 X 8 = 24\n",
      "3 X 9 = 27\n"
     ]
    }
   ],
   "source": [
    "i = int(input(\"몇단?\"))\n",
    "for j in range(1,10):\n",
    "    print(f\"{i} X {j} = {i*j}\")"
   ]
  },
  {
   "cell_type": "code",
   "execution_count": 82,
   "id": "ee41d724",
   "metadata": {},
   "outputs": [
    {
     "name": "stdout",
     "output_type": "stream",
     "text": [
      "uoy evol I\n"
     ]
    }
   ],
   "source": [
    "sentence = 'I love you'\n",
    "reverse_sentence = ''\n",
    "for i in sentence:\n",
    "    reverse_sentence = i+reverse_sentence\n",
    "print(reverse_sentence)"
   ]
  },
  {
   "cell_type": "code",
   "execution_count": 83,
   "id": "94e95b3c",
   "metadata": {},
   "outputs": [],
   "source": [
    "def calculate_rectangle_area(x,y):\n",
    "    return x * y"
   ]
  },
  {
   "cell_type": "code",
   "execution_count": 86,
   "id": "94a87963",
   "metadata": {},
   "outputs": [
    {
     "name": "stdout",
     "output_type": "stream",
     "text": [
      "10\n",
      "20\n",
      "사각형 넓이:  200\n"
     ]
    }
   ],
   "source": [
    "rectangle_x = 10\n",
    "rectangle_y = 20\n",
    "print(rectangle_x)\n",
    "print(rectangle_y)\n",
    "print('사각형 넓이: ',calculate_rectangle_area(rectangle_x,rectangle_y))"
   ]
  },
  {
   "cell_type": "code",
   "execution_count": 87,
   "id": "41406b3c",
   "metadata": {},
   "outputs": [
    {
     "name": "stdout",
     "output_type": "stream",
     "text": [
      "5 6\n"
     ]
    }
   ],
   "source": [
    "x = 5\n",
    "y = x\n",
    "y += 1\n",
    "print(x,y)"
   ]
  },
  {
   "cell_type": "code",
   "execution_count": 88,
   "id": "6b03d4f5",
   "metadata": {},
   "outputs": [],
   "source": [
    "def func1(x) :\n",
    "    x += 1\n",
    "    print(\"func1의 x:\", x)"
   ]
  },
  {
   "cell_type": "code",
   "execution_count": 89,
   "id": "5004875c",
   "metadata": {},
   "outputs": [
    {
     "name": "stdout",
     "output_type": "stream",
     "text": [
      "func1의 x: 11\n",
      "메인의 x: 10\n"
     ]
    }
   ],
   "source": [
    "x = 10\n",
    "func1(x)\n",
    "print(\"메인의 x:\", x)"
   ]
  },
  {
   "cell_type": "code",
   "execution_count": 90,
   "id": "8a0fe3e7",
   "metadata": {},
   "outputs": [
    {
     "name": "stdout",
     "output_type": "stream",
     "text": [
      "['melon', 'apple', 'banana']\n"
     ]
    }
   ],
   "source": [
    "fruits = ['melon', 'apple', 'banana']\n",
    "my_bag =fruits\n",
    "print(fruits)"
   ]
  },
  {
   "cell_type": "code",
   "execution_count": 91,
   "id": "7040987f",
   "metadata": {},
   "outputs": [
    {
     "name": "stdout",
     "output_type": "stream",
     "text": [
      "['melon', 'apple', 'banana']\n"
     ]
    }
   ],
   "source": [
    "print(my_bag)"
   ]
  },
  {
   "cell_type": "code",
   "execution_count": 92,
   "id": "b07f676b",
   "metadata": {},
   "outputs": [
    {
     "name": "stdout",
     "output_type": "stream",
     "text": [
      "['apple', 'banana', 'melon']\n",
      "['apple', 'banana', 'melon']\n"
     ]
    }
   ],
   "source": [
    "my_bag.sort()\n",
    "print(fruits)\n",
    "print(my_bag)"
   ]
  },
  {
   "cell_type": "code",
   "execution_count": 93,
   "id": "b6adafd3",
   "metadata": {},
   "outputs": [],
   "source": [
    "def shopping_cart(goods):\n",
    "    goods.append('coupon')\n",
    "    goods =[1,2]\n",
    "    print('In shopping_cart: ', goods)"
   ]
  },
  {
   "cell_type": "code",
   "execution_count": 94,
   "id": "2460727a",
   "metadata": {},
   "outputs": [
    {
     "name": "stdout",
     "output_type": "stream",
     "text": [
      "In shopping_cart:  [1, 2]\n",
      "Goods I boungt:  ['bean', 'salt', 'beef', 'coupon']\n"
     ]
    }
   ],
   "source": [
    "shopping_list=['bean','salt','beef']\n",
    "shopping_cart(shopping_list)\n",
    "print('Goods I boungt: ', shopping_list)"
   ]
  },
  {
   "cell_type": "code",
   "execution_count": 96,
   "id": "ae5b8d33",
   "metadata": {},
   "outputs": [],
   "source": [
    "def shopping_cart(goods):\n",
    "    goods =[1,2]\n",
    "    goods.append('coupon')\n",
    "   \n",
    "    print('In shopping_cart: ', goods)"
   ]
  },
  {
   "cell_type": "code",
   "execution_count": 97,
   "id": "6cddd229",
   "metadata": {},
   "outputs": [
    {
     "name": "stdout",
     "output_type": "stream",
     "text": [
      "In shopping_cart:  [1, 2, 'coupon']\n",
      "Goods I boungt:  ['bean', 'salt', 'beef']\n"
     ]
    }
   ],
   "source": [
    "shopping_list=['bean','salt','beef']\n",
    "shopping_cart(shopping_list)\n",
    "print('Goods I boungt: ', shopping_list)"
   ]
  },
  {
   "cell_type": "code",
   "execution_count": 98,
   "id": "d2c95651",
   "metadata": {},
   "outputs": [],
   "source": [
    "def test(x):\n",
    "    print(x)\n",
    "    t = 20\n",
    "    print(\"In test t, a: \", t, a)"
   ]
  },
  {
   "cell_type": "code",
   "execution_count": 99,
   "id": "e5a0dc1f",
   "metadata": {},
   "outputs": [
    {
     "name": "stdout",
     "output_type": "stream",
     "text": [
      "10\n",
      "In test t, a:  20 10\n",
      "In main a: 10\n"
     ]
    }
   ],
   "source": [
    "a = 10\n",
    "test(a)\n",
    "print(\"In main a:\", a)"
   ]
  },
  {
   "cell_type": "code",
   "execution_count": 100,
   "id": "35d46f22",
   "metadata": {},
   "outputs": [
    {
     "ename": "NameError",
     "evalue": "name 't' is not defined",
     "output_type": "error",
     "traceback": [
      "\u001b[1;31m---------------------------------------------------------------------------\u001b[0m",
      "\u001b[1;31mNameError\u001b[0m                                 Traceback (most recent call last)",
      "\u001b[1;32m<ipython-input-100-3125ffbb2ed1>\u001b[0m in \u001b[0;36m<module>\u001b[1;34m\u001b[0m\n\u001b[1;32m----> 1\u001b[1;33m \u001b[0mprint\u001b[0m\u001b[1;33m(\u001b[0m\u001b[1;34m\"In main t: \"\u001b[0m\u001b[1;33m,\u001b[0m \u001b[0mt\u001b[0m\u001b[1;33m)\u001b[0m\u001b[1;33m\u001b[0m\u001b[1;33m\u001b[0m\u001b[0m\n\u001b[0m",
      "\u001b[1;31mNameError\u001b[0m: name 't' is not defined"
     ]
    }
   ],
   "source": [
    "print(\"In main t: \", t)"
   ]
  },
  {
   "cell_type": "code",
   "execution_count": 101,
   "id": "2b817300",
   "metadata": {},
   "outputs": [],
   "source": [
    "def test(x):\n",
    "    print(x)\n",
    "    t = 20\n",
    "    a = 300\n",
    "    print(\"In test t, a: \", t, a)"
   ]
  },
  {
   "cell_type": "code",
   "execution_count": 102,
   "id": "d1b89853",
   "metadata": {},
   "outputs": [
    {
     "name": "stdout",
     "output_type": "stream",
     "text": [
      "10\n",
      "In test t, a:  20 300\n",
      "In main a: 10\n"
     ]
    },
    {
     "ename": "NameError",
     "evalue": "name 't' is not defined",
     "output_type": "error",
     "traceback": [
      "\u001b[1;31m---------------------------------------------------------------------------\u001b[0m",
      "\u001b[1;31mNameError\u001b[0m                                 Traceback (most recent call last)",
      "\u001b[1;32m<ipython-input-102-50fcefeaa104>\u001b[0m in \u001b[0;36m<module>\u001b[1;34m\u001b[0m\n\u001b[0;32m      2\u001b[0m \u001b[0mtest\u001b[0m\u001b[1;33m(\u001b[0m\u001b[0ma\u001b[0m\u001b[1;33m)\u001b[0m\u001b[1;33m\u001b[0m\u001b[1;33m\u001b[0m\u001b[0m\n\u001b[0;32m      3\u001b[0m \u001b[0mprint\u001b[0m\u001b[1;33m(\u001b[0m\u001b[1;34m\"In main a:\"\u001b[0m\u001b[1;33m,\u001b[0m \u001b[0ma\u001b[0m\u001b[1;33m)\u001b[0m\u001b[1;33m\u001b[0m\u001b[1;33m\u001b[0m\u001b[0m\n\u001b[1;32m----> 4\u001b[1;33m \u001b[0mprint\u001b[0m\u001b[1;33m(\u001b[0m\u001b[1;34m\"In main t: \"\u001b[0m\u001b[1;33m,\u001b[0m \u001b[0mt\u001b[0m\u001b[1;33m)\u001b[0m\u001b[1;33m\u001b[0m\u001b[1;33m\u001b[0m\u001b[0m\n\u001b[0m",
      "\u001b[1;31mNameError\u001b[0m: name 't' is not defined"
     ]
    }
   ],
   "source": [
    "a = 10\n",
    "test(a)\n",
    "print(\"In main a:\", a)\n",
    "print(\"In main t: \", t)"
   ]
  },
  {
   "cell_type": "code",
   "execution_count": 103,
   "id": "c6bc23f7",
   "metadata": {},
   "outputs": [],
   "source": [
    "def f():\n",
    "    print(s)"
   ]
  },
  {
   "cell_type": "code",
   "execution_count": 104,
   "id": "61c8ac91",
   "metadata": {},
   "outputs": [
    {
     "name": "stdout",
     "output_type": "stream",
     "text": [
      "I love LG Twins!\n",
      "I love LG Twins!\n"
     ]
    }
   ],
   "source": [
    "s = 'I love LG Twins!'\n",
    "f()\n",
    "print(s)"
   ]
  },
  {
   "cell_type": "code",
   "execution_count": 107,
   "id": "5ccb6a78",
   "metadata": {},
   "outputs": [],
   "source": [
    "def f():\n",
    "    global s\n",
    "    s = 'I love NC Dinos'\n",
    "    print(s)"
   ]
  },
  {
   "cell_type": "code",
   "execution_count": 108,
   "id": "9134fef6",
   "metadata": {},
   "outputs": [
    {
     "name": "stdout",
     "output_type": "stream",
     "text": [
      "I love NC Dinos\n",
      "I love NC Dinos\n"
     ]
    }
   ],
   "source": [
    "s = 'I love LG Twins!'\n",
    "f()\n",
    "print(s)"
   ]
  },
  {
   "cell_type": "code",
   "execution_count": 113,
   "id": "61bcc368",
   "metadata": {},
   "outputs": [
    {
     "name": "stdout",
     "output_type": "stream",
     "text": [
      "In Main\n",
      "a: 5 b: 7 a + b: 12\n",
      "In Function\n",
      "a: 3 b: 4 a + b: 7 total: 12\n",
      "After Calculation\n",
      "Total: 0 Sum: 12\n"
     ]
    }
   ],
   "source": [
    "\tdef calculate(x, y):\n",
    "\t    total = x + y\n",
    "    a=3\n",
    "    b=4\n",
    "\t    print(\"In Function\")\n",
    "\t    print(\"a:\", str(a), \"b:\", str(b), \"a + b:\", str(a+b), \"total:\", str(total))\n",
    "\t    return total\n",
    "\t\n",
    "\t\n",
    "\ta = 5\n",
    "\tb = 7\n",
    "\ttotal = 0\n",
    "\tprint(\"In Main\")\n",
    "\tprint(\"a:\", str(a), \"b:\", str(b), \"a + b:\", str(a+b))\n",
    "\t\n",
    "\tsum = calculate(a, b)\n",
    "\tprint(\"After Calculation\")\n",
    "print(\"Total:\", str(total), \"Sum:\", str(sum))"
   ]
  },
  {
   "cell_type": "code",
   "execution_count": 110,
   "id": "513ca1d9",
   "metadata": {},
   "outputs": [
    {
     "name": "stdout",
     "output_type": "stream",
     "text": [
      "In Main\n",
      "a: 5 b: 7 a + b: 12\n",
      "In Function\n",
      "a: 5 b: 7 a + b: 12 total: 12\n",
      "After Calculation\n",
      "Total: 0 Sum: 12\n"
     ]
    }
   ],
   "source": [
    "def calculate(x, y):\n",
    "    total = x + y\n",
    "    print(\"In Function\")\n",
    "    print(\"a:\", str(a), \"b:\", str(b), \"a + b:\", str(a+b), \"total:\", str(total))\n",
    "    return total\n",
    "\n",
    "\n",
    "a = 5\n",
    "b = 7\n",
    "total = 0\n",
    "print(\"In Main\")\n",
    "print(\"a:\", str(a), \"b:\", str(b), \"a + b:\", str(a+b))\n",
    "\n",
    "sum = calculate(a, b)\n",
    "print(\"After Calculation\")\n",
    "print(\"Total:\", str(total), \"Sum:\", str(sum))"
   ]
  },
  {
   "cell_type": "code",
   "execution_count": 120,
   "id": "9e7e9705",
   "metadata": {},
   "outputs": [],
   "source": [
    "def print_name(my_name, your_name):\n",
    "    print(\"Hello {0}, My name is {1}\".format(your_name, my_name))"
   ]
  },
  {
   "cell_type": "code",
   "execution_count": 121,
   "id": "74f9814b",
   "metadata": {},
   "outputs": [
    {
     "name": "stdout",
     "output_type": "stream",
     "text": [
      "Hello Jane, My name is Tom\n"
     ]
    }
   ],
   "source": [
    "print_name(\"Tom\", \"Jane\")"
   ]
  },
  {
   "cell_type": "code",
   "execution_count": 122,
   "id": "1279e6b9",
   "metadata": {},
   "outputs": [],
   "source": [
    "def print_name(my_name, your_name='Jane'):\n",
    "    print(\"Hello {0}, My name is {1}\".format(your_name, my_name))"
   ]
  },
  {
   "cell_type": "code",
   "execution_count": 123,
   "id": "75ea596b",
   "metadata": {},
   "outputs": [
    {
     "name": "stdout",
     "output_type": "stream",
     "text": [
      "Hello Jane, My name is Tom\n"
     ]
    }
   ],
   "source": [
    "print_name(\"Tom\",\"Jane\")"
   ]
  },
  {
   "cell_type": "code",
   "execution_count": 124,
   "id": "d26a67fa",
   "metadata": {},
   "outputs": [
    {
     "name": "stdout",
     "output_type": "stream",
     "text": [
      "Hello Jane, My name is Tom\n"
     ]
    }
   ],
   "source": [
    "print_name(\"Tom\")"
   ]
  },
  {
   "cell_type": "code",
   "execution_count": 125,
   "id": "6ccf81cf",
   "metadata": {},
   "outputs": [
    {
     "name": "stdout",
     "output_type": "stream",
     "text": [
      "a b c\n"
     ]
    }
   ],
   "source": [
    "print(\"a\",\"b\",\"c\")"
   ]
  },
  {
   "cell_type": "code",
   "execution_count": 126,
   "id": "f205d98e",
   "metadata": {},
   "outputs": [],
   "source": [
    "def variable_length(a,b,*args):\n",
    "    print(a)\n",
    "    print(b)\n",
    "    print(args)"
   ]
  },
  {
   "cell_type": "code",
   "execution_count": 127,
   "id": "79300411",
   "metadata": {},
   "outputs": [
    {
     "name": "stdout",
     "output_type": "stream",
     "text": [
      "1\n",
      "2\n",
      "(3, 4, 5)\n"
     ]
    }
   ],
   "source": [
    "variable_length(1,2,3,4,5)"
   ]
  },
  {
   "cell_type": "code",
   "execution_count": 128,
   "id": "55d6d43e",
   "metadata": {},
   "outputs": [],
   "source": [
    "def variable_length(a,b,*args):\n",
    "    print(a)\n",
    "    print(b)\n",
    "    c,d,e = args\n",
    "    print(c,d,e)"
   ]
  },
  {
   "cell_type": "code",
   "execution_count": 129,
   "id": "35fc155a",
   "metadata": {},
   "outputs": [
    {
     "name": "stdout",
     "output_type": "stream",
     "text": [
      "1\n",
      "2\n",
      "3 4 5\n"
     ]
    }
   ],
   "source": [
    "variable_length(1,2,3,4,5)"
   ]
  },
  {
   "cell_type": "code",
   "execution_count": 130,
   "id": "fcc17b14",
   "metadata": {},
   "outputs": [
    {
     "name": "stdout",
     "output_type": "stream",
     "text": [
      "BLACK LIVES MATTER\n",
      "black lives matter\n",
      "Black Lives Matter\n",
      "Black lives matter\n",
      "2\n",
      "True\n",
      "True\n"
     ]
    }
   ],
   "source": [
    "s = \"BLACK LIVES MATTER\"\n",
    "print(s.upper())\n",
    "print(s.lower())\n",
    "print(s.title())\n",
    "print(s.capitalize())\n",
    "print(s.count(\"T\"))\n",
    "print(s.startswith(\"B\"))\n",
    "\n",
    "k=\"123\"\n",
    "print(k.isdigit())"
   ]
  },
  {
   "cell_type": "code",
   "execution_count": 131,
   "id": "e67b91ce",
   "metadata": {},
   "outputs": [
    {
     "name": "stdout",
     "output_type": "stream",
     "text": [
      "1 2 3\n",
      "1 2 3\n",
      "abc--def--ghi\n",
      "abc def ghi\n",
      "def abc ghi\n",
      "def abc ghi\n",
      "    python\n",
      "python    \n",
      "    python\n",
      "python    \n"
     ]
    }
   ],
   "source": [
    "print(1,2,3)\n",
    "print(\"%d %d %d\" %(1,2,3))\n",
    "print(\"%s--%s--%s\" %('abc','def','ghi'))\n",
    "print(\"{} {} {}\".format('abc','def','ghi'))\n",
    "print(\"{1} {0} {2}\".format('abc','def','ghi'))\n",
    "print(f\"{'def'} {'abc'} {'ghi'}\")\n",
    "print(\"{0:>10s}\".format('python'))\n",
    "print(\"{0:<10s}\".format('python'))\n",
    "print(f\"{'python':>10s}\")\n",
    "print(f\"{'python':<10s}\")"
   ]
  },
  {
   "cell_type": "code",
   "execution_count": 132,
   "id": "b6004c99",
   "metadata": {},
   "outputs": [
    {
     "name": "stdout",
     "output_type": "stream",
     "text": [
      "['zero', 'one', 'two', 'three']\n"
     ]
    }
   ],
   "source": [
    "items = 'zero one two three'.split()\n",
    "print(items)"
   ]
  },
  {
   "cell_type": "code",
   "execution_count": 134,
   "id": "460f6d6f",
   "metadata": {},
   "outputs": [
    {
     "name": "stdout",
     "output_type": "stream",
     "text": [
      "['python', 'javascript', 'sql']\n"
     ]
    }
   ],
   "source": [
    "examples = 'python,javascript,sql'\n",
    "print(examples.split(','))"
   ]
  },
  {
   "cell_type": "code",
   "execution_count": 136,
   "id": "c89958c4",
   "metadata": {},
   "outputs": [
    {
     "name": "stdout",
     "output_type": "stream",
     "text": [
      "python javascript sql\n"
     ]
    }
   ],
   "source": [
    "a,b,c = examples.split(',')\n",
    "print(a,b,c)"
   ]
  },
  {
   "cell_type": "code",
   "execution_count": 137,
   "id": "6abf3b41",
   "metadata": {},
   "outputs": [
    {
     "name": "stdout",
     "output_type": "stream",
     "text": [
      "red blue green yellow\n"
     ]
    }
   ],
   "source": [
    "colors = ['red','blue','green','yellow']\n",
    "result = ' '.join(colors)\n",
    "print(result)"
   ]
  },
  {
   "cell_type": "code",
   "execution_count": 138,
   "id": "383fe4cc",
   "metadata": {},
   "outputs": [
    {
     "name": "stdout",
     "output_type": "stream",
     "text": [
      "red, blue, green, yellow\n"
     ]
    }
   ],
   "source": [
    "colors = ['red','blue','green','yellow']\n",
    "result = ', '.join(colors)\n",
    "print(result)"
   ]
  },
  {
   "cell_type": "code",
   "execution_count": 139,
   "id": "acb45b6a",
   "metadata": {},
   "outputs": [
    {
     "name": "stdout",
     "output_type": "stream",
     "text": [
      "red-blue-green-yellow\n"
     ]
    }
   ],
   "source": [
    "colors = ['red','blue','green','yellow']\n",
    "result = '-'.join(colors)\n",
    "print(result)"
   ]
  },
  {
   "cell_type": "code",
   "execution_count": 140,
   "id": "045e18b9",
   "metadata": {},
   "outputs": [
    {
     "name": "stdout",
     "output_type": "stream",
     "text": [
      "redbluegreenyellow\n"
     ]
    }
   ],
   "source": [
    "colors = ['red','blue','green','yellow']\n",
    "result = ''.join(colors)\n",
    "print(result)"
   ]
  },
  {
   "cell_type": "code",
   "execution_count": 141,
   "id": "dc64b49d",
   "metadata": {},
   "outputs": [
    {
     "name": "stdout",
     "output_type": "stream",
     "text": [
      "[1, 2, 3, 4, 5, 10]\n"
     ]
    }
   ],
   "source": [
    "a = [1,2,3,4,5]\n",
    "a.append(10)\n",
    "print(a)"
   ]
  },
  {
   "cell_type": "code",
   "execution_count": 142,
   "id": "4aed0a00",
   "metadata": {},
   "outputs": [
    {
     "name": "stdout",
     "output_type": "stream",
     "text": [
      "10\n"
     ]
    }
   ],
   "source": [
    "print(a.pop())"
   ]
  },
  {
   "cell_type": "code",
   "execution_count": 143,
   "id": "ae3cbb96",
   "metadata": {},
   "outputs": [
    {
     "name": "stdout",
     "output_type": "stream",
     "text": [
      "[1, 2, 3, 4, 5]\n"
     ]
    }
   ],
   "source": [
    "print(a)"
   ]
  },
  {
   "cell_type": "code",
   "execution_count": 145,
   "id": "ca9a82c8",
   "metadata": {},
   "outputs": [
    {
     "name": "stdout",
     "output_type": "stream",
     "text": [
      "['u', 'o', 'y', ' ', 'e', 'v', 'o', 'l', ' ', 'I']\n"
     ]
    }
   ],
   "source": [
    "sentence = list('I love you')\n",
    "reverse_sentence = []\n",
    "\n",
    "for _ in range(len(sentence)):\n",
    "    reverse_sentence.append(sentence.pop())\n",
    "print(reverse_sentence)"
   ]
  },
  {
   "cell_type": "code",
   "execution_count": 146,
   "id": "77be05a8",
   "metadata": {},
   "outputs": [
    {
     "name": "stdout",
     "output_type": "stream",
     "text": [
      "uoy evol I\n"
     ]
    }
   ],
   "source": [
    "print(''.join(reverse_sentence))"
   ]
  },
  {
   "cell_type": "code",
   "execution_count": null,
   "id": "7adaf091",
   "metadata": {},
   "outputs": [],
   "source": []
  }
 ],
 "metadata": {
  "kernelspec": {
   "display_name": "Python 3 (ipykernel)",
   "language": "python",
   "name": "python3"
  },
  "language_info": {
   "codemirror_mode": {
    "name": "ipython",
    "version": 3
   },
   "file_extension": ".py",
   "mimetype": "text/x-python",
   "name": "python",
   "nbconvert_exporter": "python",
   "pygments_lexer": "ipython3",
   "version": "3.8.12"
  }
 },
 "nbformat": 4,
 "nbformat_minor": 5
}
